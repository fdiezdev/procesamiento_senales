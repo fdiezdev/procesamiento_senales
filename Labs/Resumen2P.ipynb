{
 "cells": [
  {
   "attachments": {},
   "cell_type": "markdown",
   "metadata": {},
   "source": [
    "# **Resumen PDS 2P**"
   ]
  },
  {
   "cell_type": "code",
   "execution_count": 2,
   "metadata": {},
   "outputs": [
    {
     "ename": "error",
     "evalue": "OpenCV(4.7.0) D:\\a\\opencv-python\\opencv-python\\opencv\\modules\\imgproc\\src\\color.cpp:182: error: (-215:Assertion failed) !_src.empty() in function 'cv::cvtColor'\n",
     "output_type": "error",
     "traceback": [
      "\u001b[1;31m---------------------------------------------------------------------------\u001b[0m",
      "\u001b[1;31merror\u001b[0m                                     Traceback (most recent call last)",
      "Cell \u001b[1;32mIn[2], line 10\u001b[0m\n\u001b[0;32m      7\u001b[0m \u001b[39mimport\u001b[39;00m \u001b[39mscipy\u001b[39;00m\u001b[39m.\u001b[39;00m\u001b[39mio\u001b[39;00m\n\u001b[0;32m      9\u001b[0m \u001b[39m# cargamos la imagen a usar\u001b[39;00m\n\u001b[1;32m---> 10\u001b[0m img \u001b[39m=\u001b[39m cv2\u001b[39m.\u001b[39;49mcvtColor(cv2\u001b[39m.\u001b[39;49mimread(\u001b[39m'\u001b[39;49m\u001b[39mlungdesease.jpg\u001b[39;49m\u001b[39m'\u001b[39;49m), cv2\u001b[39m.\u001b[39;49mCOLOR_BGR2RGB)\n\u001b[0;32m     11\u001b[0m imgsNoise \u001b[39m=\u001b[39m cv2\u001b[39m.\u001b[39mimread(\u001b[39m'\u001b[39m\u001b[39msaperuido.jpg\u001b[39m\u001b[39m'\u001b[39m)\n\u001b[0;32m     12\u001b[0m imgsyp \u001b[39m=\u001b[39m cv2\u001b[39m.\u001b[39mimread(\u001b[39m'\u001b[39m\u001b[39msapeS&P.jpg\u001b[39m\u001b[39m'\u001b[39m)\n",
      "\u001b[1;31merror\u001b[0m: OpenCV(4.7.0) D:\\a\\opencv-python\\opencv-python\\opencv\\modules\\imgproc\\src\\color.cpp:182: error: (-215:Assertion failed) !_src.empty() in function 'cv::cvtColor'\n"
     ]
    }
   ],
   "source": [
    "# importamos las librerias necesarias\n",
    "import cv2 \n",
    "import numpy as np\n",
    "import matplotlib.pyplot as plt\n",
    "from scipy import signal\n",
    "from scipy import ndimage, datasets\n",
    "import scipy.io\n",
    "\n",
    "# cargamos la imagen a usar\n",
    "img = cv2.cvtColor(cv2.imread('lungdesease.jpg'), cv2.COLOR_BGR2RGB)\n",
    "imgsNoise = cv2.imread('saperuido.jpg')\n",
    "imgsyp = cv2.imread('sapeS&P.jpg')\n",
    "\n",
    "# mostramos la imagen cargada\n",
    "print(\"Shape img: \", img.shape)\n",
    "print(\"dtype img: \", img.dtype)\n",
    "\n",
    "# creamos una variable de la imagen en escala de grises\n",
    "imgs = cv2.cvtColor(img, cv2.COLOR_BGR2GRAY)\n",
    "\n",
    "plt.figure(figsize=(12,4))\n",
    "plt.subplot(121)\n",
    "plt.imshow(img)\n",
    "\n",
    "plt.subplot(122)\n",
    "plt.imshow(imgs, cmap='gray')\n",
    "\n",
    "#plt.imsave(\"sapeb&n.jpg\", imgs, cmap='gray')\n",
    "\n",
    "plt.show()"
   ]
  },
  {
   "attachments": {},
   "cell_type": "markdown",
   "metadata": {},
   "source": [
    "---"
   ]
  },
  {
   "attachments": {},
   "cell_type": "markdown",
   "metadata": {},
   "source": [
    "## **1.1 Transformaciones Geométricas**"
   ]
  },
  {
   "attachments": {},
   "cell_type": "markdown",
   "metadata": {},
   "source": [
    "Tenemos 3 posibilidades: \n",
    "1. Traslacion\n",
    "2. Rotacion\n",
    "3. Escalado"
   ]
  },
  {
   "attachments": {},
   "cell_type": "markdown",
   "metadata": {},
   "source": [
    "### 1.1.1 Traslacion"
   ]
  },
  {
   "cell_type": "code",
   "execution_count": null,
   "metadata": {},
   "outputs": [],
   "source": [
    "fil, col = imgs.shape\n",
    "\n",
    "# creamos la matriz de traslacion\n",
    "tmatrix = np.float32([[1,0,-200],[0,1,200]])\n",
    "# variar el 200 y -200 para mover la imagen\n",
    "\n",
    "# ejecutamos la traslacion\n",
    "imgsTraslado = cv2.warpAffine(imgs, tmatrix, (col,fil))\n",
    "\n",
    "plt.figure(figsize=(12,4))\n",
    "plt.subplot(121)\n",
    "plt.imshow(imgs, cmap='gray')\n",
    "\n",
    "plt.subplot(122)\n",
    "plt.imshow(imgsTraslado, cmap='gray')\n",
    "\n",
    "plt.show()"
   ]
  },
  {
   "attachments": {},
   "cell_type": "markdown",
   "metadata": {},
   "source": [
    "### 1.1.2 Rotacion"
   ]
  },
  {
   "cell_type": "code",
   "execution_count": null,
   "metadata": {},
   "outputs": [],
   "source": [
    "deg = 25 # angulo de rotacion\n",
    "tmatrix = cv2.getRotationMatrix2D((0,0),deg,1)\n",
    "\n",
    "imgsRotado = cv2.warpAffine(imgs, tmatrix, (col,fil))\n",
    "\n",
    "plt.figure(figsize=(12,4))\n",
    "plt.subplot(121)\n",
    "plt.imshow(imgs, cmap='gray')\n",
    "\n",
    "plt.subplot(122)\n",
    "plt.imshow(imgsRotado, cmap='gray')\n",
    "\n",
    "plt.show()"
   ]
  },
  {
   "attachments": {},
   "cell_type": "markdown",
   "metadata": {},
   "source": [
    "### 1.1.3 Escalado"
   ]
  },
  {
   "cell_type": "code",
   "execution_count": null,
   "metadata": {},
   "outputs": [],
   "source": [
    "# mismo concepto que rotacion pero con angulo 0\n",
    "tmatrix = cv2.getRotationMatrix2D((0,0), 0, 2)\n",
    "# con el ultimo parametro escalamos mas o menos \n",
    "# ahora estariamos escalando el doble porque es 2\n",
    "\n",
    "imgsScale = cv2.warpAffine(imgs, tmatrix, (col, fil))\n",
    "\n",
    "plt.figure(figsize=(12,4))\n",
    "plt.subplot(121)\n",
    "plt.imshow(imgs, cmap='gray')\n",
    "\n",
    "plt.subplot(122)\n",
    "plt.imshow(imgsScale, cmap='gray')\n",
    "\n",
    "plt.show()"
   ]
  },
  {
   "attachments": {},
   "cell_type": "markdown",
   "metadata": {},
   "source": [
    "## **1.2 Transformaciones de Intensidad**"
   ]
  },
  {
   "attachments": {},
   "cell_type": "markdown",
   "metadata": {},
   "source": [
    "### 1.2.1 Transformaciones de  Intensidad en Frecuencia\n",
    "* Filtros Lineales\n",
    "* Filtros No Lineales (de orden)\n",
    "* Filtros direccionales (con mascaras)"
   ]
  },
  {
   "attachments": {},
   "cell_type": "markdown",
   "metadata": {},
   "source": [
    "### 1.2.2 Transformaciones de Intensidad en el Espacio\n",
    "* Transformaciones punto a punto\n",
    "* Transformaciones con máscaras/kernels (filtros epeciales o espaciales)"
   ]
  },
  {
   "attachments": {},
   "cell_type": "markdown",
   "metadata": {},
   "source": [
    "####  1.2.2.1 Transformaciones punto a punto"
   ]
  },
  {
   "attachments": {},
   "cell_type": "markdown",
   "metadata": {},
   "source": [
    "- Logaritmica\n",
    "- Negativa\n",
    "- Potencial \n",
    "- Umbralizado"
   ]
  },
  {
   "cell_type": "code",
   "execution_count": null,
   "metadata": {},
   "outputs": [],
   "source": [
    "# logaritmica\n",
    "imgs64 = (imgs/np.amax(imgs)).astype(np.float64) # primero convertimos a float64\n",
    "c = np.float64(200) # constante c\n",
    "# print(c)\n",
    "imgs64log = (c * np.log(1 + abs(imgs64)))\n",
    "\n",
    "plt.figure(figsize=(12,4))\n",
    "plt.subplot(121)\n",
    "plt.imshow(imgs, cmap='gray')\n",
    "\n",
    "plt.subplot(122)\n",
    "plt.imshow(imgs64log, cmap='gray')\n",
    "\n",
    "\n",
    "plt.figure(figsize=(12,4))\n",
    "plt.subplot(121)\n",
    "plt.hist(np.ravel(imgs64), bins=50)\n",
    "\n",
    "plt.subplot(122)\n",
    "plt.hist(np.ravel(imgs64log), bins=50)\n",
    "\n",
    "plt.show()"
   ]
  },
  {
   "cell_type": "code",
   "execution_count": null,
   "metadata": {},
   "outputs": [],
   "source": [
    "# negativa \n",
    "imgs64neg = (1 - imgs64)\n",
    "\n",
    "plt.figure(figsize=(12,4))\n",
    "plt.subplot(121)\n",
    "plt.imshow(imgs, cmap='gray')\n",
    "\n",
    "plt.subplot(122)\n",
    "plt.imshow(imgs64neg, cmap='gray')\n",
    "\n",
    "plt.figure(figsize=(12,4))\n",
    "plt.subplot(121)\n",
    "plt.hist(np.ravel(imgs64), bins=50)\n",
    "\n",
    "plt.subplot(122)\n",
    "plt.hist(np.ravel(imgs64neg), bins=50)\n",
    "\n",
    "plt.show()"
   ]
  },
  {
   "cell_type": "code",
   "execution_count": null,
   "metadata": {},
   "outputs": [],
   "source": [
    "# potencial\n",
    "gamma = 2\n",
    "imgs64pot = (imgs64**gamma)\n",
    "\n",
    "rdMax = np.amax(imgs64)\n",
    "rdMin = np.amin(imgs64)\n",
    "\n",
    "plt.figure(figsize=(12,4))\n",
    "plt.subplot(121)\n",
    "plt.imshow(imgs, cmap='gray')\n",
    "\n",
    "plt.subplot(122)\n",
    "plt.imshow(imgs64pot, cmap='gray', vmax=rdMax, vmin=rdMin)\n",
    "\n",
    "plt.figure(figsize=(12,4))\n",
    "plt.subplot(121)\n",
    "plt.hist(np.ravel(imgs64), bins=50)\n",
    "\n",
    "plt.subplot(122)\n",
    "plt.hist(np.ravel(imgs64pot), bins=50)\n",
    "\n",
    "plt.show()"
   ]
  },
  {
   "cell_type": "code",
   "execution_count": null,
   "metadata": {},
   "outputs": [],
   "source": [
    "# umbralizado\n",
    "u = 0.5 # umbral\n",
    "imgs64bin = (imgs64>=u)\n",
    "\n",
    "plt.figure(figsize=(12,4))\n",
    "plt.subplot(121)\n",
    "plt.imshow(imgs, cmap='gray')\n",
    "\n",
    "plt.subplot(122)\n",
    "plt.imshow(imgs64bin, cmap='gray')\n",
    "\n",
    "plt.show()"
   ]
  },
  {
   "attachments": {},
   "cell_type": "markdown",
   "metadata": {},
   "source": [
    "#### 1.2.2.2 Transformaciones con máscaras/kernels (filtros epeciales o espaciales)\n",
    "* Direccionales\n",
    "* Promediado\n",
    "* Realce\n",
    "\n",
    "Otra clasificacion:\n",
    "- suavizado (filtros pasa bajo - promediado)\n",
    "- bordes y detalles (filtros pasa alto - diferencia)\n",
    "\n",
    "Se necesitan dos imagenes:\n",
    "1. Imagen A \n",
    "2. Kernel"
   ]
  },
  {
   "cell_type": "code",
   "execution_count": null,
   "metadata": {},
   "outputs": [],
   "source": [
    "# PROMEDIADOS\n",
    "def kernel_prom(n):\n",
    "    return(np.ones((n,n),np.float32)/(n**2))\n",
    "\n",
    "n = 7 # usar n impar\n",
    "kern = kernel_prom(n)\n",
    "#print(kern)\n",
    "#print(np.sum(kern)) la suma de los elementos es 1\n",
    "\n",
    "imgsProm = cv2.filter2D(imgs, -1, kern)\n",
    "\n",
    "plt.figure(figsize=(12,4))\n",
    "plt.subplot(121)\n",
    "plt.imshow(imgs, cmap='gray')\n",
    "\n",
    "plt.subplot(122)\n",
    "plt.imshow(imgsProm, cmap='gray')\n",
    "\n",
    "plt.show()"
   ]
  },
  {
   "cell_type": "code",
   "execution_count": null,
   "metadata": {},
   "outputs": [],
   "source": [
    "# GAUSSIANO\n",
    "\n",
    "#Función para generar un kernel Gausiano 2D\n",
    "def gaussianKernel2D(nfil, ncol, sigmaf, sigmac):\n",
    "    return(np.dot(cv2.getGaussianKernel(nfil, sigmaf), np.transpose(cv2.getGaussianKernel(ncol, sigmac))))\n",
    "size = 7\n",
    "delta = 5\n",
    "kern = gaussianKernel2D(size, size, delta, delta)\n",
    "# el 1.5 es la varianza\n",
    "# print(np.sum(kern)) la suma da casi 1\n",
    "#print(kern)\n",
    "\n",
    "imgsGauss = cv2.filter2D(imgs, -1, kern)\n",
    "\n",
    "plt.figure(figsize=(12,4))\n",
    "plt.subplot(121)\n",
    "plt.imshow(imgs, cmap='gray')\n",
    "\n",
    "plt.subplot(122)\n",
    "plt.imshow(imgsGauss, cmap='gray')\n",
    "\n",
    "plt.show()"
   ]
  },
  {
   "cell_type": "code",
   "execution_count": null,
   "metadata": {},
   "outputs": [],
   "source": [
    "# DETECCION DE BORDES (PASA ALTO) - Prewitt\n",
    "\n",
    "# diagonales\n",
    "prewDiag = np.array([[1,1,0],[1,0,-1],[0,-1,-1]]) # la suma de coeficientes debe dar 0\n",
    "imgsDiag = cv2.filter2D(imgs,-1,prewDiag)\n",
    "\n",
    "# verticales\n",
    "prewVert = np.array([[1,0,-1],[1,0,-1],[1,0,-1]])\n",
    "imgsVert = cv2.filter2D(imgs,-1,prewVert)\n",
    "\n",
    "# horizontales\n",
    "prewHoriz = np.transpose(prewVert)\n",
    "imgsHoriz = cv2.filter2D(imgs,-1,prewHoriz)\n",
    "#print(prewHoriz)\n",
    "\n",
    "plt.figure(figsize=(12,4))\n",
    "plt.subplot(131)\n",
    "plt.imshow(imgsDiag, cmap='gray')\n",
    "\n",
    "plt.subplot(132)\n",
    "plt.imshow(imgsVert, cmap='gray')\n",
    "\n",
    "plt.subplot(133)\n",
    "plt.imshow(imgsHoriz, cmap='gray')\n",
    "\n",
    "plt.show()\n"
   ]
  },
  {
   "cell_type": "code",
   "execution_count": null,
   "metadata": {},
   "outputs": [],
   "source": [
    "# LAPLACE (REALCE)\n",
    "\n",
    "laplace1 = np.array([[0,-1,0],[-1,4,-1],[0,-1,0]])\n",
    "imgsLp1 = cv2.filter2D(imgs,-1,laplace1)\n",
    "\n",
    "laplace2 = np.array([[-1,-1,-1],[-1,8,-1],[-1,-1,-1]]) # kernel de realce\n",
    "imgsLp2 = cv2.filter2D(imgs,-1,laplace2)\n",
    "\n",
    "plt.figure(figsize=(12,4))\n",
    "plt.subplot(131)\n",
    "plt.imshow(imgs, cmap='gray')\n",
    "\n",
    "plt.subplot(132)\n",
    "plt.imshow(imgsLp1, cmap='gray')\n",
    "\n",
    "plt.subplot(133)\n",
    "plt.imshow(imgsLp2, cmap='gray')\n",
    "\n",
    "plt.show()"
   ]
  },
  {
   "attachments": {},
   "cell_type": "markdown",
   "metadata": {},
   "source": [
    "## 1.2.3 Filtros no lineales\n",
    "* Mediana (suaviza, robusto a valores extremos)\n",
    "* Maximo (suaviza, aclara levemente)\n",
    "* Minimo (suaviza, oscurece levemente)"
   ]
  },
  {
   "cell_type": "code",
   "execution_count": null,
   "metadata": {},
   "outputs": [],
   "source": [
    "imgsMax = ndimage.maximum_filter(imgs, size=7, mode='nearest')\n",
    "imgsMin = ndimage.minimum_filter(imgs, size=7, mode='nearest')\n",
    "imgsMed = ndimage.median_filter(imgs, size=11)\n",
    "# size -> valor impar, mientras mas grande mas efecto hace\n",
    "\n",
    "plt.figure(figsize=(12,4))\n",
    "plt.subplot(131)\n",
    "plt.imshow(imgsMax, cmap='gray')\n",
    "\n",
    "plt.subplot(132)\n",
    "plt.imshow(imgsMin, cmap='gray')\n",
    "\n",
    "plt.subplot(133)\n",
    "plt.imshow(imgsMed, cmap='gray')\n",
    "\n",
    "plt.show() "
   ]
  },
  {
   "attachments": {},
   "cell_type": "markdown",
   "metadata": {},
   "source": [
    "---"
   ]
  },
  {
   "attachments": {},
   "cell_type": "markdown",
   "metadata": {},
   "source": [
    "## **2.1 Ruidos**\n",
    "Hay dos tipos\n",
    "- Ruido de distorsion (sistemico)\n",
    "- Ruido de sal & pimienta"
   ]
  },
  {
   "cell_type": "code",
   "execution_count": null,
   "metadata": {},
   "outputs": [],
   "source": [
    "# mostramos la imagen con ruido\n",
    "plt.figure(figsize=(12,4))\n",
    "\n",
    "plt.subplot(121)\n",
    "plt.imshow(imgsNoise)\n",
    "plt.title(\"Ruido de distorsion\")\n",
    "\n",
    "\n",
    "plt.subplot(122)\n",
    "plt.imshow(imgsyp)\n",
    "plt.title(\"Ruido de sal & pimienta\")\n",
    "\n",
    "plt.show()"
   ]
  },
  {
   "attachments": {},
   "cell_type": "markdown",
   "metadata": {},
   "source": [
    "## **2.2 Recuperacion de la senal**"
   ]
  },
  {
   "cell_type": "code",
   "execution_count": null,
   "metadata": {},
   "outputs": [],
   "source": [
    "# 1 recortar un pedazo de imagen\n",
    "rec1 = imgsNoise[0:50,0:50]\n",
    "rec2 = imgsyp[0:50,0:50]\n",
    "\n",
    "plt.figure(figsize=(12,4))\n",
    "\n",
    "plt.subplot(121)\n",
    "plt.imshow(rec1)\n",
    "plt.title(\"Ruido de distorsion\")\n",
    "\n",
    "\n",
    "plt.subplot(122)\n",
    "plt.imshow(rec2)\n",
    "plt.title(\"Ruido de sal & pimienta\")\n",
    "\n",
    "plt.show()"
   ]
  },
  {
   "cell_type": "code",
   "execution_count": null,
   "metadata": {},
   "outputs": [],
   "source": [
    "# eliminamos el ruido de distorsion con un filtro gaussiano\n",
    "n = 5 # dimension del kernel\n",
    "#fix1 = cv2.medianBlur(imgsNoise,n)\n",
    "fix1 = cv2.GaussianBlur(imgsNoise,(n,n),2,2,0)\n",
    "\n",
    "# eliminamos el ruido sal y pimiento\n",
    "n = 3\n",
    "fix2 = cv2.medianBlur(imgsyp,n)\n",
    "\n",
    "plt.figure(figsize=(12,4))\n",
    "\n",
    "plt.subplot(121)\n",
    "plt.imshow(imgsNoise)\n",
    "plt.title(\"Ruido de distorsion\")\n",
    "\n",
    "\n",
    "plt.subplot(122)\n",
    "plt.imshow(imgsyp)\n",
    "plt.title(\"Ruido de sal & pimienta\")\n",
    "\n",
    "plt.figure(figsize=(12,4))\n",
    "\n",
    "plt.subplot(121)\n",
    "plt.imshow(fix1)\n",
    "plt.title(\"Arreglo de ruido de distorsion\")\n",
    "\n",
    "\n",
    "plt.subplot(122)\n",
    "plt.imshow(fix2)\n",
    "plt.title(\"Ruido de sal & pimienta\")\n",
    "\n",
    "plt.show()"
   ]
  },
  {
   "attachments": {},
   "cell_type": "markdown",
   "metadata": {},
   "source": [
    "---"
   ]
  },
  {
   "attachments": {},
   "cell_type": "markdown",
   "metadata": {},
   "source": [
    "# **Transformada de Fourier de la imagen**"
   ]
  },
  {
   "cell_type": "code",
   "execution_count": null,
   "metadata": {},
   "outputs": [],
   "source": [
    "tfImgs = np.fft.fft2(imgs)\n",
    "tfImgss = np.fft.fftshift(tfImgs)\n",
    "# tipo de dato es complex 128\n",
    "#tfImgss.astype(float64)\n",
    "# mostramos por pantalla el resultado de la transformacion\n",
    "plt.figure(figsize=(12,4))\n",
    "\n",
    "plt.subplot(121)\n",
    "plt.imshow(abs(tfImgss), cmap='gray')\n",
    "plt.title(\"Transformada de la imagen\")\n",
    "\n",
    "dbtf = 20*np.log(abs(tfImgss))\n",
    "plt.subplot(122)\n",
    "plt.imshow(dbtf, cmap='gray')\n",
    "plt.title(\"Transformada pasada a dB\")"
   ]
  },
  {
   "attachments": {},
   "cell_type": "markdown",
   "metadata": {},
   "source": [
    "### Calcuamos la Transformada Inversa de Fourier"
   ]
  },
  {
   "cell_type": "code",
   "execution_count": null,
   "metadata": {},
   "outputs": [],
   "source": [
    "tfiImgss = np.fft.ifft2(tfImgss)\n",
    "\n",
    "plt.figure(figsize=(12,4))\n",
    "\n",
    "plt.imshow(abs(tfiImgss), cmap='gray')\n",
    "plt.title(\"Transformada inversa\")"
   ]
  },
  {
   "attachments": {},
   "cell_type": "markdown",
   "metadata": {},
   "source": [
    "---"
   ]
  },
  {
   "attachments": {},
   "cell_type": "markdown",
   "metadata": {},
   "source": [
    "# **Convolucion 2D**"
   ]
  },
  {
   "cell_type": "code",
   "execution_count": null,
   "metadata": {},
   "outputs": [],
   "source": [
    "# definimos las dos senales\n",
    "A=np.array( [[1,-3,4],[2,2,0]])\n",
    "B=np.array([[1,2],[-1,4]])\n",
    "\n",
    "conv2d = signal.convolve2d(A, B, boundary='fill', fillvalue=0, mode='full')\n",
    "print(conv2d)\n",
    "\n",
    "print(A.shape, \" + \", B.shape, \" - (1,1) =\", conv2d.shape)\n"
   ]
  },
  {
   "cell_type": "code",
   "execution_count": null,
   "metadata": {},
   "outputs": [],
   "source": [
    "# convolucion de una img con una mascara k\n",
    "k = np.ones((5,5))/25\n",
    "\n",
    "print(k)\n",
    "\n",
    "# hacemos la convolucion de las dos variables"
   ]
  }
 ],
 "metadata": {
  "kernelspec": {
   "display_name": "Python 3",
   "language": "python",
   "name": "python3"
  },
  "language_info": {
   "codemirror_mode": {
    "name": "ipython",
    "version": 3
   },
   "file_extension": ".py",
   "mimetype": "text/x-python",
   "name": "python",
   "nbconvert_exporter": "python",
   "pygments_lexer": "ipython3",
   "version": "3.11.2"
  },
  "orig_nbformat": 4
 },
 "nbformat": 4,
 "nbformat_minor": 2
}
