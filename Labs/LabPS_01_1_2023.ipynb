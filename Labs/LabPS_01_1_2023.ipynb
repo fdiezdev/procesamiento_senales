{
  "cells": [
    {
      "attachments": {},
      "cell_type": "markdown",
      "metadata": {
        "id": "b067KXmIxNou"
      },
      "source": [
        "# **Laboratorio 1**"
      ]
    },
    {
      "cell_type": "markdown",
      "metadata": {
        "id": "NniFVuC_xXJj"
      },
      "source": [
        "Vamos a importar la librería **numpy** y la renombramos como **np** \n",
        "Es como un set de herramientas para trabajar con vectores y matrices"
      ]
    },
    {
      "cell_type": "code",
      "execution_count": 1,
      "metadata": {
        "id": "ikbQaE3taIgS"
      },
      "outputs": [],
      "source": [
        "import numpy as np "
      ]
    },
    {
      "cell_type": "markdown",
      "metadata": {
        "id": "V1K73Lwrqmql"
      },
      "source": [
        "Luego toda las funciones de esa librería comienzan con np.\n",
        "\n",
        "por ejemplo:\n",
        "\n",
        "np.array   es una función para generar arreglos (1D, 2D, 3D, etc)"
      ]
    },
    {
      "attachments": {},
      "cell_type": "markdown",
      "metadata": {
        "id": "W9d3P2dtaKyE"
      },
      "source": [
        "## **Ejercicio 1**\n"
      ]
    },
    {
      "cell_type": "markdown",
      "metadata": {
        "id": "qSYH3opqbMC9"
      },
      "source": [
        "### a) \n",
        "Escriba los vectores v = (25,8,20,75) y w = (1,3,5,...,21)"
      ]
    },
    {
      "cell_type": "code",
      "execution_count": 2,
      "metadata": {
        "id": "TzKNy9T0bCSJ"
      },
      "outputs": [],
      "source": [
        "#usamos # para comentarios, esta línea no se ejecuta\n",
        "# generamos el arreglo 1D a partir de la lista de elementos [25,8,20,75]\n",
        "v = np.array([25,8,20,75])"
      ]
    },
    {
      "cell_type": "code",
      "execution_count": 3,
      "metadata": {
        "colab": {
          "base_uri": "https://localhost:8080/"
        },
        "id": "MCLaiA-pxp94",
        "outputId": "62b0f3e2-ec27-4717-96a4-113d81c506c7"
      },
      "outputs": [
        {
          "name": "stdout",
          "output_type": "stream",
          "text": [
            "[25  8 20 75]\n"
          ]
        }
      ],
      "source": [
        "print(v)"
      ]
    },
    {
      "cell_type": "markdown",
      "metadata": {
        "id": "nckyr_1pt6We"
      },
      "source": [
        "### **a, bis)** \n",
        "Escriba los vectores v2 = (3,4,75) y w2 = (1,3,5,...,21)"
      ]
    },
    {
      "cell_type": "code",
      "execution_count": 4,
      "metadata": {
        "id": "V1L7-17Zt5Yd",
        "tags": []
      },
      "outputs": [],
      "source": [
        "w2 = np.array([1,3,5,...,21])\n",
        "v2 = np.array([3,4,75])"
      ]
    },
    {
      "cell_type": "markdown",
      "metadata": {
        "id": "T7ztQHQgxBY0"
      },
      "source": [
        "Ahora usamos **np.arange(inicio,límsup,paso)**, comienza en inicio, hasta límsup exclusive, \n",
        "con saltos dados por paso"
      ]
    },
    {
      "cell_type": "code",
      "execution_count": null,
      "metadata": {
        "colab": {
          "base_uri": "https://localhost:8080/"
        },
        "id": "KSOgzTDXsBZf",
        "outputId": "ea23b461-d8d4-42f1-e0de-854943d36748"
      },
      "outputs": [
        {
          "name": "stdout",
          "output_type": "stream",
          "text": [
            "[ 1.   1.5  2.   2.5  3.   3.5  4.   4.5  5.   5.5  6.   6.5  7.   7.5\n",
            "  8.   8.5  9.   9.5 10.  10.5 11.  11.5 12.  12.5 13.  13.5 14.  14.5\n",
            " 15.  15.5 16.  16.5 17.  17.5 18.  18.5 19.  19.5 20.  20.5 21.  21.5]\n"
          ]
        }
      ],
      "source": [
        "w=np.arange(1,22,0.5) #Coloco hasta 22 puesto que colab lo toma hasta 22 exclusive, intervalo, abierto a derecha \n",
        "print(w)"
      ]
    },
    {
      "cell_type": "code",
      "execution_count": null,
      "metadata": {
        "id": "nybJVcL8V7Pp"
      },
      "outputs": [],
      "source": []
    },
    {
      "cell_type": "markdown",
      "metadata": {
        "id": "_zwKqGY4dNc4"
      },
      "source": [
        "### **b)** longitud\n",
        "Indique la longitud de v y w."
      ]
    },
    {
      "cell_type": "markdown",
      "metadata": {
        "id": "BDO5gqUUd354"
      },
      "source": [
        "Longitud del vector **v** :"
      ]
    },
    {
      "cell_type": "code",
      "execution_count": null,
      "metadata": {
        "colab": {
          "base_uri": "https://localhost:8080/"
        },
        "id": "5gDSu9kkdXdC",
        "outputId": "fe5d8bb7-7449-455e-8229-8fd16298f4bb"
      },
      "outputs": [
        {
          "data": {
            "text/plain": [
              "4"
            ]
          },
          "execution_count": 5,
          "metadata": {},
          "output_type": "execute_result"
        }
      ],
      "source": [
        "len(v)\n",
        "\n"
      ]
    },
    {
      "cell_type": "markdown",
      "metadata": {
        "id": "fdvVKsnOd2hD"
      },
      "source": [
        "Longitud del vector **w** :"
      ]
    },
    {
      "cell_type": "code",
      "execution_count": null,
      "metadata": {
        "colab": {
          "base_uri": "https://localhost:8080/"
        },
        "id": "IX88o6KHdN1g",
        "outputId": "538afad7-ac7f-4781-a768-cf4c44d64ff6"
      },
      "outputs": [
        {
          "data": {
            "text/plain": [
              "42"
            ]
          },
          "execution_count": 12,
          "metadata": {},
          "output_type": "execute_result"
        }
      ],
      "source": [
        "len(w)"
      ]
    },
    {
      "cell_type": "markdown",
      "metadata": {
        "id": "EA5mem-RdywX"
      },
      "source": [
        "### c)  max y min:\n",
        "Indique el máximo y mínimo valor de v y w y tambien sus ultimas entradas"
      ]
    },
    {
      "cell_type": "code",
      "execution_count": null,
      "metadata": {
        "colab": {
          "base_uri": "https://localhost:8080/"
        },
        "id": "5LMm4rxVWYC5",
        "outputId": "ef1880a9-087b-4029-f72e-9121fdd2d6e5"
      },
      "outputs": [
        {
          "data": {
            "text/plain": [
              "21.5"
            ]
          },
          "execution_count": 14,
          "metadata": {},
          "output_type": "execute_result"
        }
      ],
      "source": [
        "np.amax(w)"
      ]
    },
    {
      "cell_type": "code",
      "execution_count": null,
      "metadata": {
        "id": "6KSTonH4eAYl"
      },
      "outputs": [],
      "source": [
        "maxv=np.amax(v) #Máximo valor del vector v, en una variable"
      ]
    },
    {
      "cell_type": "markdown",
      "metadata": {
        "id": "a23sKYO5WobK"
      },
      "source": [
        "imprimir el valor de la variable maxv"
      ]
    },
    {
      "cell_type": "code",
      "execution_count": null,
      "metadata": {
        "colab": {
          "base_uri": "https://localhost:8080/"
        },
        "id": "I4wK7pfHWiGk",
        "outputId": "17bc0778-6110-4ac3-e7a5-90f334f344c5"
      },
      "outputs": [
        {
          "name": "stdout",
          "output_type": "stream",
          "text": [
            "75\n"
          ]
        }
      ],
      "source": [
        "print(maxv)"
      ]
    },
    {
      "cell_type": "code",
      "execution_count": null,
      "metadata": {
        "colab": {
          "base_uri": "https://localhost:8080/"
        },
        "id": "HPGRFwKfusg4",
        "outputId": "c0397bd7-e593-4900-d6e2-55b83fca98f9"
      },
      "outputs": [
        {
          "name": "stdout",
          "output_type": "stream",
          "text": [
            "primer valor del vector v es  25 \n",
            "\n"
          ]
        }
      ],
      "source": [
        "prim_v=v[0]\n",
        "print (\"primer valor del vector v es \", prim_v, \"\\n\")"
      ]
    },
    {
      "cell_type": "code",
      "execution_count": null,
      "metadata": {
        "colab": {
          "base_uri": "https://localhost:8080/"
        },
        "id": "a1UFx6yvYqpC",
        "outputId": "514cd49a-b33b-4a04-df49-984c6203e1de"
      },
      "outputs": [
        {
          "name": "stdout",
          "output_type": "stream",
          "text": [
            "Ultimo valor del vector v es  75 \n",
            "\n"
          ]
        }
      ],
      "source": [
        "ult_v=v[len(v)-1] #Ultimo valor del vector v, la indexación comienza en 0\n",
        "print (\"Ultimo valor del vector v es \", ult_v, \"\\n\")\n"
      ]
    },
    {
      "cell_type": "code",
      "execution_count": null,
      "metadata": {
        "colab": {
          "base_uri": "https://localhost:8080/"
        },
        "id": "0dKd6YG9vDja",
        "outputId": "69243bb8-2589-4844-e5fa-bf78e563cb99"
      },
      "outputs": [
        {
          "name": "stdout",
          "output_type": "stream",
          "text": [
            "21.5\n",
            "21.5\n"
          ]
        }
      ],
      "source": [
        "print(w[-1])\n",
        "print(w[len(w)-1])"
      ]
    },
    {
      "cell_type": "markdown",
      "metadata": {
        "id": "FkbVzF2Fmf9E"
      },
      "source": [
        "También puedo hacer que muestre solamente ciertos componentes o elementos del vector"
      ]
    },
    {
      "cell_type": "code",
      "execution_count": null,
      "metadata": {
        "colab": {
          "base_uri": "https://localhost:8080/"
        },
        "id": "zfA47F5NmlA9",
        "outputId": "8f769067-061c-4773-ab66-982b409319c6"
      },
      "outputs": [
        {
          "name": "stdout",
          "output_type": "stream",
          "text": [
            "[1.  1.5]\n",
            "[1. 2.]\n"
          ]
        }
      ],
      "source": [
        "print(w[0:2]) # muestra solo los elementos [inicio:limite_superior]\n",
        "print(w[0:4:2]) # saltando de a pasos [inicio:lim_superior:paso]"
      ]
    },
    {
      "cell_type": "markdown",
      "metadata": {
        "id": "tg3wTOxAnUfd"
      },
      "source": [
        "⭕ **No entiendo que pasa cuando tengo tres elementos tipo print(w[0:1:3])**"
      ]
    },
    {
      "cell_type": "markdown",
      "metadata": {
        "id": "h6qe71k-x_IB"
      },
      "source": [
        "Podemos ver las variables que tenemos en memoria usando whos (si no funciona probar %whos)"
      ]
    },
    {
      "cell_type": "code",
      "execution_count": null,
      "metadata": {
        "colab": {
          "base_uri": "https://localhost:8080/"
        },
        "id": "-p9NhvktyHgZ",
        "outputId": "32198087-4331-476a-a78b-e4f84e582c23"
      },
      "outputs": [
        {
          "name": "stdout",
          "output_type": "stream",
          "text": [
            "Variable   Type       Data/Info\n",
            "-------------------------------\n",
            "maxv       int64      75\n",
            "np         module     <module 'numpy' from '/us<...>kages/numpy/__init__.py'>\n",
            "prim_v     int64      25\n",
            "ult_v      int64      75\n",
            "ult_w      float64    21.5\n",
            "v          ndarray    4: 4 elems, type `int64`, 32 bytes\n",
            "v2         ndarray    3: 3 elems, type `int64`, 24 bytes\n",
            "w          ndarray    42: 42 elems, type `float64`, 336 bytes\n",
            "w2         ndarray    5: 5 elems, type `object`, 40 bytes\n"
          ]
        }
      ],
      "source": [
        "whos"
      ]
    },
    {
      "cell_type": "markdown",
      "metadata": {
        "id": "epQJl3G6vfd6"
      },
      "source": [
        "### c bis) \n",
        "dar también el primero y el cuarto elemento de w, además del máximo y  mínimo valor   "
      ]
    },
    {
      "cell_type": "code",
      "execution_count": null,
      "metadata": {
        "colab": {
          "base_uri": "https://localhost:8080/"
        },
        "id": "iju5KxLgeY88",
        "outputId": "783a940c-ee28-48ca-eef5-011cd1309204"
      },
      "outputs": [
        {
          "name": "stdout",
          "output_type": "stream",
          "text": [
            "2.5 21.5 1.0\n"
          ]
        }
      ],
      "source": [
        "w_cuarto = w[3]\n",
        "w_max = np.amax(w)\n",
        "w_min = np.amin(w)\n",
        "print(w_cuarto, w_max, w_min)"
      ]
    },
    {
      "cell_type": "markdown",
      "metadata": {
        "id": "vjivBfoveolG"
      },
      "source": [
        "###  **e)** \n",
        "Genere el vector u = (1, 4, 9, 16, 25, 36, 49, 8\n",
        "2\n",
        ", 9\n",
        "2\n",
        ", 102\n",
        ", 112\n",
        ")\n"
      ]
    },
    {
      "cell_type": "code",
      "execution_count": null,
      "metadata": {
        "colab": {
          "base_uri": "https://localhost:8080/"
        },
        "id": "2ZDtCcY3C4hG",
        "outputId": "b54fc8d9-8b9c-4372-8e42-06be703aba96"
      },
      "outputs": [
        {
          "name": "stdout",
          "output_type": "stream",
          "text": [
            "[ 1  2  3  4  5  6  7  8  9 10 11]\n",
            "[  1   4   9  16  25  36  49  64  81 100 121]\n"
          ]
        }
      ],
      "source": [
        "n=np.arange(1,12)\n",
        "u=n**2\n",
        "print(n)\n",
        "print(u) "
      ]
    },
    {
      "cell_type": "markdown",
      "metadata": {
        "id": "rDan2EsXmKQb"
      },
      "source": [
        "### **f)** suma\n",
        "Realice la suma entre u y w y el producto de un escalar por un vector\n"
      ]
    },
    {
      "cell_type": "code",
      "execution_count": null,
      "metadata": {
        "colab": {
          "base_uri": "https://localhost:8080/"
        },
        "id": "uh7Sqyyusgtf",
        "outputId": "2e18aa0b-e67e-4351-a22b-cf4d92a958e2"
      },
      "outputs": [
        {
          "name": "stdout",
          "output_type": "stream",
          "text": [
            "[  2   6  12  20  30  42  56  72  90 110 132]\n"
          ]
        }
      ],
      "source": [
        "suma=u+n\n",
        "print(suma)\n",
        "\n",
        "#Producto escalar por un vector:\n",
        "PEscalar = 2*suma "
      ]
    },
    {
      "cell_type": "code",
      "execution_count": null,
      "metadata": {
        "id": "BjwOimErCrbE"
      },
      "outputs": [],
      "source": [
        "print(\"Vector suma =\", suma)\n",
        "print(\"Vector suma por un escalar =\",PEscalar)"
      ]
    },
    {
      "cell_type": "markdown",
      "metadata": {
        "id": "NuQYwcoYyN1a"
      },
      "source": [
        "¿se pueden sumar los vectores u y v?"
      ]
    },
    {
      "cell_type": "markdown",
      "metadata": {
        "id": "HTA5bm1oruek"
      },
      "source": [
        "No porque los vectores tienen distinta longitud"
      ]
    },
    {
      "cell_type": "markdown",
      "metadata": {
        "id": "WDVIkUVquONo"
      },
      "source": [
        "### **h)** \n",
        "Genere, de dos formas distintas, un vector de longitud 50 (M=50 cantidad de elementos) cuyas coordenadas sean\n",
        "valores entre 0 y 1."
      ]
    },
    {
      "cell_type": "code",
      "execution_count": null,
      "metadata": {
        "id": "RJ2DDVt_EDUo"
      },
      "outputs": [],
      "source": [
        "M=50\n",
        "T=1/M # intervalo entre muestras, (Período de muestreo)\n",
        "w0=np.arange(0,1,T) "
      ]
    },
    {
      "cell_type": "code",
      "execution_count": null,
      "metadata": {
        "colab": {
          "base_uri": "https://localhost:8080/"
        },
        "id": "HaMu58WkuZlD",
        "outputId": "c841fba0-83fa-47ee-fe6a-34216229e36c"
      },
      "outputs": [
        {
          "name": "stdout",
          "output_type": "stream",
          "text": [
            "[0.         0.02040816 0.04081633 0.06122449 0.08163265 0.10204082\n",
            " 0.12244898 0.14285714 0.16326531 0.18367347 0.20408163 0.2244898\n",
            " 0.24489796 0.26530612 0.28571429 0.30612245 0.32653061 0.34693878\n",
            " 0.36734694 0.3877551  0.40816327 0.42857143 0.44897959 0.46938776\n",
            " 0.48979592 0.51020408 0.53061224 0.55102041 0.57142857 0.59183673\n",
            " 0.6122449  0.63265306 0.65306122 0.67346939 0.69387755 0.71428571\n",
            " 0.73469388 0.75510204 0.7755102  0.79591837 0.81632653 0.83673469\n",
            " 0.85714286 0.87755102 0.89795918 0.91836735 0.93877551 0.95918367\n",
            " 0.97959184 1.        ]\n",
            "[0.   0.02 0.04 0.06 0.08 0.1  0.12 0.14 0.16 0.18 0.2  0.22 0.24 0.26\n",
            " 0.28 0.3  0.32 0.34 0.36 0.38 0.4  0.42 0.44 0.46 0.48 0.5  0.52 0.54\n",
            " 0.56 0.58 0.6  0.62 0.64 0.66 0.68 0.7  0.72 0.74 0.76 0.78 0.8  0.82\n",
            " 0.84 0.86 0.88 0.9  0.92 0.94 0.96 0.98]\n"
          ]
        }
      ],
      "source": [
        "#Se puede hacer por lo menos de tres formas distintas pero notar la diferencia:\n",
        "M=50\n",
        "w1= np.linspace (0,1,M) # linspace(ini, limsup, #demuestras)\n",
        "print(w1)\n",
        "\n",
        "w2= np.linspace (0,1,M, endpoint=False)\n",
        "print(w2)\n"
      ]
    },
    {
      "cell_type": "markdown",
      "metadata": {
        "id": "76daDrMFDevh"
      },
      "source": [
        "Ejercicio: imprimir la longitud de los tres vectores"
      ]
    },
    {
      "cell_type": "code",
      "execution_count": null,
      "metadata": {
        "id": "BeucbxnasS-6"
      },
      "outputs": [],
      "source": []
    },
    {
      "cell_type": "markdown",
      "metadata": {
        "id": "ZaWjwtjuwFOO"
      },
      "source": [
        "### **i)** Grafique \n",
        "Grafique los vectores u,w. funciones stem, plot, figure\n",
        "\n",
        "Primero necesitamos importar una sublibrería para graficar:"
      ]
    },
    {
      "cell_type": "markdown",
      "metadata": {
        "id": "Kani5HILEmFu"
      },
      "source": [
        "#### sublibrería matplotlib.pyplot"
      ]
    },
    {
      "cell_type": "code",
      "execution_count": null,
      "metadata": {
        "id": "4jHqeCRvzk0y"
      },
      "outputs": [],
      "source": [
        "import matplotlib.pyplot as plt "
      ]
    },
    {
      "cell_type": "code",
      "execution_count": null,
      "metadata": {
        "colab": {
          "base_uri": "https://localhost:8080/",
          "height": 282
        },
        "id": "AaxHIDlxzsj8",
        "outputId": "ac9bf03e-a521-4332-e029-774caab232fb"
      },
      "outputs": [
        {
          "data": {
            "text/plain": [
              "[<matplotlib.lines.Line2D at 0x7f8bd8b0b2e0>]"
            ]
          },
          "execution_count": 37,
          "metadata": {},
          "output_type": "execute_result"
        },
        {
          "data": {
            "image/png": "[encoded data removed]",
            "text/plain": [
              "<Figure size 432x288 with 1 Axes>"
            ]
          },
          "metadata": {
            "needs_background": "light"
          },
          "output_type": "display_data"
        }
      ],
      "source": [
        "plt.plot(v)\n",
        "#plt.title('vector v, plot une los puntos')\n",
        "#plt.xlabel('nro de entrada')\n",
        "#plt.show()"
      ]
    },
    {
      "cell_type": "code",
      "execution_count": null,
      "metadata": {
        "colab": {
          "base_uri": "https://localhost:8080/",
          "height": 265
        },
        "id": "7UtKToLD0bEO",
        "outputId": "5c394e45-f766-466f-9fb6-1b52bbf22da1"
      },
      "outputs": [
        {
          "data": {
            "image/png": "[encoded data removed]",
            "text/plain": [
              "<Figure size 432x288 with 1 Axes>"
            ]
          },
          "metadata": {
            "needs_background": "light"
          },
          "output_type": "display_data"
        }
      ],
      "source": [
        "plt.stem(v)\n",
        "#plt.title('vector v, stem grafica de manera discreta cada entrada del vector')\n",
        "#plt.xlabel('nro de entrada')\n",
        "plt.show()"
      ]
    },
    {
      "cell_type": "code",
      "execution_count": null,
      "metadata": {
        "colab": {
          "base_uri": "https://localhost:8080/",
          "height": 265
        },
        "id": "E65Xi83LXylT",
        "outputId": "e9f36a1b-c543-46ea-d0a2-88e094a9f071"
      },
      "outputs": [
        {
          "data": {
            "image/png": "[encoded data removed]",
            "text/plain": [
              "<Figure size 432x288 with 2 Axes>"
            ]
          },
          "metadata": {
            "needs_background": "light"
          },
          "output_type": "display_data"
        }
      ],
      "source": [
        "plt.subplot(121)\n",
        "plt.plot(u, color='blue', label='Señal u')\n",
        "plt.legend()\n",
        "\n",
        "plt.subplot(122)\n",
        "plt.stem(u, label='Señal u')\n",
        "plt.legend()\n",
        "plt.show()"
      ]
    },
    {
      "cell_type": "code",
      "execution_count": null,
      "metadata": {
        "colab": {
          "base_uri": "https://localhost:8080/",
          "height": 265
        },
        "id": "ExHgzyNyamQQ",
        "outputId": "059b1b2a-19c2-4e75-aaa3-0afe8e0fb2f8"
      },
      "outputs": [
        {
          "data": {
            "image/png": "[encoded data removed]",
            "text/plain": [
              "<Figure size 1008x288 with 2 Axes>"
            ]
          },
          "metadata": {
            "needs_background": "light"
          },
          "output_type": "display_data"
        }
      ],
      "source": [
        "#plt.figure(figsize=(14,4))\n",
        "plt.subplot(121)\n",
        "plt.plot(w, color='red', label='Señal w')\n",
        "plt.plot(u, color='blue', label='Señal u')\n",
        "plt.plot(suma, color='g', label='Señal u+w')\n",
        "plt.legend()\n",
        "\n",
        "plt.subplot(122)\n",
        "plt.stem(w, label='Señal W')\n",
        "plt.legend()\n",
        "plt.show()"
      ]
    },
    {
      "cell_type": "markdown",
      "metadata": {
        "id": "bI0OQ4DYztVg"
      },
      "source": [
        "##**Ejercicio 2**"
      ]
    },
    {
      "cell_type": "markdown",
      "metadata": {
        "id": "t8pT0m4T9Rah"
      },
      "source": [
        "Dadas las siguiente señales discretas.\n",
        "\n",
        "\n",
        "$x_1\\left[n\\right]=\\left\\{\\begin{matrix}\n",
        " 0 & \\text{ si }   n= 0,..,20 ;\\\\     \n",
        "                   n  & \\text{ si }  n= 21,..,34\n",
        "\\end{matrix}\\right.$\n",
        "\n",
        "$x_2\\left[n\\right]=\\sin \\left ( 2 \\pi \\frac{n}{20 } \\right ) \\, si \\, n=0,...,39 $\n",
        "\n"
      ]
    },
    {
      "cell_type": "markdown",
      "metadata": {
        "id": "sOZIDvKmnji9"
      },
      "source": [
        "### a) digitalice \n",
        "ambas señales"
      ]
    },
    {
      "cell_type": "code",
      "execution_count": null,
      "metadata": {
        "colab": {
          "base_uri": "https://localhost:8080/"
        },
        "id": "FqN7w6XXGRmq",
        "outputId": "92d679ca-297c-415c-a115-d806433e71ce"
      },
      "outputs": [
        {
          "data": {
            "text/plain": [
              "3.141592653589793"
            ]
          },
          "execution_count": 11,
          "metadata": {},
          "output_type": "execute_result"
        }
      ],
      "source": [
        "np.pi"
      ]
    },
    {
      "cell_type": "code",
      "execution_count": null,
      "metadata": {
        "id": "JJw5m-dNzz-W"
      },
      "outputs": [],
      "source": [
        "x1 = np.arange(35) #arreglo 1D \n",
        "x1[0:21]=0 #sobreescribo"
      ]
    },
    {
      "cell_type": "code",
      "execution_count": null,
      "metadata": {
        "id": "Pd90Y9MnHW8V"
      },
      "outputs": [],
      "source": [
        "n= np.arange(40)\n",
        "x2 = np.sin () "
      ]
    },
    {
      "cell_type": "markdown",
      "metadata": {
        "id": "P8ECHd03nqhL"
      },
      "source": [
        "### b) grafique"
      ]
    },
    {
      "cell_type": "markdown",
      "metadata": {
        "id": "kxex77q9-IsG"
      },
      "source": []
    },
    {
      "cell_type": "markdown",
      "metadata": {
        "id": "tKWq3HSj98gu"
      },
      "source": [
        "**PARA SUMAR DOS SEÑALES AMBAS TIENEN QUE TENER LA MISMA LONGITUD**"
      ]
    },
    {
      "cell_type": "code",
      "execution_count": null,
      "metadata": {
        "id": "wZykqaHhcYUn"
      },
      "outputs": [],
      "source": []
    },
    {
      "cell_type": "markdown",
      "metadata": {
        "id": "KyyqeEpB-rBQ"
      },
      "source": [
        "##**Ejercicio 3**\n"
      ]
    },
    {
      "attachments": {},
      "cell_type": "markdown",
      "metadata": {
        "id": "3jCLnYvnuzbR"
      },
      "source": [
        "Sean las señales:\n",
        "\n",
        "$f(t)= \\cos(2 \\pi 7 t), t \\in \\left[0,2 \\right)$\n",
        "\n",
        "$g(t)=\\sin(2 \\pi 3 t), t \\in \\left [0, 2 \\right ) $\n",
        "\n",
        "a) Que frecuencia (de oscilación) tienen?\n"
      ]
    },
    {
      "cell_type": "markdown",
      "metadata": {
        "id": "Mo0ijQX2kQNl"
      },
      "source": [
        "### b) Digitalice \n",
        "las señales f y g con M= 100 muestras (o puntos) equiespaciadas. \n",
        "Identifique período de muestreo y frecuencia de muestreo"
      ]
    },
    {
      "cell_type": "code",
      "execution_count": null,
      "metadata": {
        "id": "7Uc7F6NTkNtH"
      },
      "outputs": [],
      "source": [
        "M=100\n",
        "n=np.arange(M)\n",
        "tn=n/M*2\n",
        "f=cos(2*np.pi*7*tn)\n"
      ]
    },
    {
      "cell_type": "code",
      "execution_count": null,
      "metadata": {
        "id": "ujtbLRO2mtrd"
      },
      "outputs": [],
      "source": [
        "plt.stem(f)\n",
        "plt.show()"
      ]
    },
    {
      "cell_type": "markdown",
      "metadata": {
        "id": "7u_9sBaGd5PL"
      },
      "source": [
        "### **c**) suma\n",
        "calcule la señal suma y grafique. interprete"
      ]
    },
    {
      "cell_type": "code",
      "execution_count": null,
      "metadata": {
        "id": "lSJrAlqdeCmA"
      },
      "outputs": [],
      "source": []
    }
  ],
  "metadata": {
    "colab": {
      "provenance": [],
      "toc_visible": true
    },
    "kernelspec": {
      "display_name": "Python 3",
      "name": "python3"
    },
    "language_info": {
      "codemirror_mode": {
        "name": "ipython",
        "version": 3
      },
      "file_extension": ".py",
      "mimetype": "text/x-python",
      "name": "python",
      "nbconvert_exporter": "python",
      "pygments_lexer": "ipython3",
      "version": "3.11.2"
    }
  },
  "nbformat": 4,
  "nbformat_minor": 0
}
