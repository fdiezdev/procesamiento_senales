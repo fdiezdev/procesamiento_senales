{
 "cells": [
  {
   "attachments": {},
   "cell_type": "markdown",
   "metadata": {},
   "source": [
    "# **_<span style=\"color: yellow\">PS Cheatsheet</span>_**"
   ]
  },
  {
   "attachments": {},
   "cell_type": "markdown",
   "metadata": {},
   "source": [
    "* **NumPy** es una librería de python que permite manipular números, vectores, matrices, funciones, constantes de forma fácil ([Numpy docs](https://numpy.org/doc/))\n",
    "* **Matplotlib** es una libreria de python que nos va a permitir graficar funciones matematicas ([Matplotlib docs](https://matplotlib.org/stable/index.html))\n",
    "* **SciPy** es una libreria de python que nos permite implementar conceptos/algoritmos del algebra lineal y de fourier ([Matplotlib docs](https://docs.scipy.org/doc/scipy/))"
   ]
  },
  {
   "cell_type": "code",
   "execution_count": 13,
   "metadata": {},
   "outputs": [],
   "source": [
    "import numpy as np\n",
    "import matplotlib.pyplot as plt\n",
    "from scipy import signal\n",
    "from scipy.fftpack import fft,fftshift,ifft"
   ]
  },
  {
   "attachments": {},
   "cell_type": "markdown",
   "metadata": {},
   "source": [
    "Ahora que tenemos numpy importada podemos usar su funcionalidades\n",
    "\n",
    "# **<span style=\"color: orange\">Vectores</span>**\n",
    "\n",
    "Para crear un vector usando numpy vamos a hacer"
   ]
  },
  {
   "cell_type": "code",
   "execution_count": 2,
   "metadata": {},
   "outputs": [
    {
     "name": "stdout",
     "output_type": "stream",
     "text": [
      "[ 2  4  6 12 82  1 19 39]\n"
     ]
    }
   ],
   "source": [
    "v = np.array([2, 4, 6, 12, 82, 1, 19, 39]) # usar los corchetes\n",
    "print(v)"
   ]
  },
  {
   "attachments": {},
   "cell_type": "markdown",
   "metadata": {},
   "source": [
    "### Metodo np.arange\n",
    "\n",
    "Existen metodos de numpy que nos permiten crear vectores especificos de forma automatica. Por ejemplo con el __**metodo arange**__ podemos hacer un vector que vaya de un numero a otro con cierto espaciamiento:\n"
   ]
  },
  {
   "cell_type": "code",
   "execution_count": 3,
   "metadata": {},
   "outputs": [
    {
     "name": "stdout",
     "output_type": "stream",
     "text": [
      "[0 2 4 6 8]\n"
     ]
    }
   ],
   "source": [
    "w = np.arange(0,10,2) # va sin corchetes\n",
    "print(w)"
   ]
  },
  {
   "attachments": {},
   "cell_type": "markdown",
   "metadata": {},
   "source": [
    "### Funcion len()\n",
    "\n",
    "Nos permite obtener un entero que representa la longitud de un vector"
   ]
  },
  {
   "cell_type": "code",
   "execution_count": 4,
   "metadata": {},
   "outputs": [
    {
     "name": "stdout",
     "output_type": "stream",
     "text": [
      "5\n"
     ]
    }
   ],
   "source": [
    "print(len(w))"
   ]
  },
  {
   "attachments": {},
   "cell_type": "markdown",
   "metadata": {},
   "source": [
    "### Metodos amax y amin\n",
    "\n",
    "- np.amax() nos permite obtener el valor mas alto de un vector\n",
    "- np.amin() nos permite obtener el valor mas chico de un vector\n",
    "\n"
   ]
  },
  {
   "cell_type": "code",
   "execution_count": 5,
   "metadata": {},
   "outputs": [
    {
     "name": "stdout",
     "output_type": "stream",
     "text": [
      "8\n",
      "0\n"
     ]
    }
   ],
   "source": [
    "print(np.amax(w))\n",
    "print(np.amin(w))"
   ]
  },
  {
   "attachments": {},
   "cell_type": "markdown",
   "metadata": {},
   "source": [
    "### Seleccionar elementos especificos de un vector\n",
    "\n",
    "Podemos hacer que se muestren por consola componentes especificos de un vector:\n"
   ]
  },
  {
   "cell_type": "code",
   "execution_count": 6,
   "metadata": {},
   "outputs": [
    {
     "name": "stdout",
     "output_type": "stream",
     "text": [
      "0\n",
      "8\n",
      "6\n"
     ]
    }
   ],
   "source": [
    "print(w[0]) # primer elemento\n",
    "print(w[-1]) # ultimo elemento\n",
    "print(w[-2]) # penultimo elemento"
   ]
  },
  {
   "attachments": {},
   "cell_type": "markdown",
   "metadata": {},
   "source": [
    "Tambien podemos hacer que se \"recorte\" el vector y nos muestre solo una parte:"
   ]
  },
  {
   "cell_type": "code",
   "execution_count": 7,
   "metadata": {},
   "outputs": [
    {
     "name": "stdout",
     "output_type": "stream",
     "text": [
      "[0 2 4]\n"
     ]
    }
   ],
   "source": [
    "print(w[0:3])"
   ]
  },
  {
   "attachments": {},
   "cell_type": "markdown",
   "metadata": {},
   "source": [
    "En este caso mostramos unicamente los elementos de [ inicio:limiteSuperior ].\n",
    "Tambien podemos especificar que muestre desde un punto de inicio hasta un limite superior con un paso o delta:\n"
   ]
  },
  {
   "cell_type": "code",
   "execution_count": 8,
   "metadata": {},
   "outputs": [
    {
     "name": "stdout",
     "output_type": "stream",
     "text": [
      "Muestro del 1 al 50:  [ 0  1  2  3  4  5  6  7  8  9 10 11 12 13 14 15 16 17 18 19 20 21 22 23\n",
      " 24 25 26 27 28 29 30 31 32 33 34 35 36 37 38 39 40 41 42 43 44 45 46 47\n",
      " 48 49]\n",
      "Muestro del 1 al 50 con un paso de 2:  [ 0  2  4  6  8 10 12 14 16 18 20 22 24 26 28 30 32 34 36 38 40 42 44 46\n",
      " 48]\n"
     ]
    }
   ],
   "source": [
    "x = np.arange(0,100)\n",
    "print(\"Muestro del 1 al 50: \", x[0:50])\n",
    "print(\"Muestro del 1 al 50 con un paso de 2: \", x[0:50:2])"
   ]
  },
  {
   "attachments": {},
   "cell_type": "markdown",
   "metadata": {},
   "source": [
    "### Metodo linspace\n",
    "\n",
    "Es un metodo similar al np.arange, solo que se diferencia de este porque el tercer parametro que acepta no es un paso, si no la cantidad de elementos que tiene que tener el vector dentro.\n",
    "\n",
    "> \"In summary, the main difference between np.arange and np.linspace is that np.arange generates an array of values with a specified spacing between them, while np.linspace generates an array of values with a specified number of values within a given range.\" \n",
    "\n",
    ">   -ChatGPT"
   ]
  },
  {
   "cell_type": "code",
   "execution_count": 9,
   "metadata": {},
   "outputs": [
    {
     "name": "stdout",
     "output_type": "stream",
     "text": [
      "[0.   0.02 0.04 0.06 0.08 0.1  0.12 0.14 0.16 0.18 0.2  0.22 0.24 0.26\n",
      " 0.28 0.3  0.32 0.34 0.36 0.38 0.4  0.42 0.44 0.46 0.48 0.5  0.52 0.54\n",
      " 0.56 0.58 0.6  0.62 0.64 0.66 0.68 0.7  0.72 0.74 0.76 0.78 0.8  0.82\n",
      " 0.84 0.86 0.88 0.9  0.92 0.94 0.96 0.98]\n",
      "[0.   0.02 0.04 0.06 0.08 0.1  0.12 0.14 0.16 0.18 0.2  0.22 0.24 0.26\n",
      " 0.28 0.3  0.32 0.34 0.36 0.38 0.4  0.42 0.44 0.46 0.48 0.5  0.52 0.54\n",
      " 0.56 0.58 0.6  0.62 0.64 0.66 0.68 0.7  0.72 0.74 0.76 0.78 0.8  0.82\n",
      " 0.84 0.86 0.88 0.9  0.92 0.94 0.96 0.98]\n"
     ]
    }
   ],
   "source": [
    "M = 50\n",
    "T = 1/M\n",
    "\n",
    "q0 = np.arange(0,1,T)\n",
    "print(q0)\n",
    "\n",
    "q1 = np.linspace(0,1,M, endpoint=False)\n",
    "print(q1)"
   ]
  },
  {
   "attachments": {},
   "cell_type": "markdown",
   "metadata": {},
   "source": [
    "Por defecto el metodo linspace tiene un flag booleano llamado '_endpoint_' que por default esta como verdadero. Cuando enpoint=True, incluye al parametro superior dentro del vector, caso contrario, no lo incluye y el limite superior no formara parte del vector."
   ]
  },
  {
   "attachments": {},
   "cell_type": "markdown",
   "metadata": {},
   "source": [
    "## Metodos np.ones() y np.zeros()\n",
    "\n",
    "Podemos crear vectores que contengan un numero repetido en vez de que contengan una sucesion de numeros. "
   ]
  },
  {
   "cell_type": "code",
   "execution_count": 10,
   "metadata": {},
   "outputs": [
    {
     "name": "stdout",
     "output_type": "stream",
     "text": [
      "[1. 1. 1. 1. 1.]  |  [0. 0. 0. 0. 0.]\n"
     ]
    }
   ],
   "source": [
    "ones = np.ones(5) # el 5 indica la cantidad de 1 (largo) que va a tener el vector\n",
    "\n",
    "zeros = np.zeros(5)\n",
    "print(ones, \" | \", zeros)"
   ]
  },
  {
   "attachments": {},
   "cell_type": "markdown",
   "metadata": {},
   "source": [
    "## **Operaciones con vectores**\n",
    "\n",
    "### Suma de dos vectores\n",
    "> Para sumar dos vectores entre si <span style='color: red'>**tienen que tener la misma longitud**.</span>"
   ]
  },
  {
   "cell_type": "code",
   "execution_count": 11,
   "metadata": {},
   "outputs": [
    {
     "ename": "ValueError",
     "evalue": "operands could not be broadcast together with shapes (100,) (5,) ",
     "output_type": "error",
     "traceback": [
      "\u001b[1;31m---------------------------------------------------------------------------\u001b[0m",
      "\u001b[1;31mValueError\u001b[0m                                Traceback (most recent call last)",
      "Cell \u001b[1;32mIn[11], line 2\u001b[0m\n\u001b[0;32m      1\u001b[0m \u001b[39m# por ejemplo voy a sumar dos vectores que no tienen la misma longitud\u001b[39;00m\n\u001b[1;32m----> 2\u001b[0m \u001b[39mprint\u001b[39m(x\u001b[39m+\u001b[39;49mw) \u001b[39m# me devuelve error \u001b[39;00m\n",
      "\u001b[1;31mValueError\u001b[0m: operands could not be broadcast together with shapes (100,) (5,) "
     ]
    }
   ],
   "source": [
    "# por ejemplo voy a sumar dos vectores que no tienen la misma longitud\n",
    "print(x+w) # me devuelve error "
   ]
  },
  {
   "attachments": {},
   "cell_type": "markdown",
   "metadata": {},
   "source": [
    "### Producto vectorial\n"
   ]
  },
  {
   "cell_type": "code",
   "execution_count": null,
   "metadata": {},
   "outputs": [
    {
     "name": "stdout",
     "output_type": "stream",
     "text": [
      "[ 0  4  8 12 16]\n"
     ]
    }
   ],
   "source": [
    "print(2*w)"
   ]
  },
  {
   "attachments": {},
   "cell_type": "markdown",
   "metadata": {},
   "source": [
    "## **Graficos con matplotlib**\n",
    "\n",
    "Podemos graficar funciones invocando a la libreria matplotlib de la siguiente manera:\n"
   ]
  },
  {
   "attachments": {},
   "cell_type": "markdown",
   "metadata": {},
   "source": [
    "### Metodo plot (continuo)\n",
    "\n",
    "Podemos graficar un vector:\n"
   ]
  },
  {
   "cell_type": "code",
   "execution_count": null,
   "metadata": {},
   "outputs": [
    {
     "data": {
      "text/plain": [
       "[<matplotlib.lines.Line2D at 0x250788e8b10>]"
      ]
     },
     "execution_count": 23,
     "metadata": {},
     "output_type": "execute_result"
    },
    {
     "data": {
      "image/png": "[encoded data removed]",
      "text/plain": [
       "<Figure size 640x480 with 1 Axes>"
      ]
     },
     "metadata": {},
     "output_type": "display_data"
    }
   ],
   "source": [
    "plt.plot(v)"
   ]
  },
  {
   "attachments": {},
   "cell_type": "markdown",
   "metadata": {},
   "source": [
    "### Metodo stem  (discreto)\n",
    "Para graficar el mismo vector pero en tiempo discreto, usamos:"
   ]
  },
  {
   "cell_type": "code",
   "execution_count": null,
   "metadata": {},
   "outputs": [
    {
     "data": {
      "text/plain": [
       "<StemContainer object of 3 artists>"
      ]
     },
     "execution_count": 24,
     "metadata": {},
     "output_type": "execute_result"
    },
    {
     "data": {
      "image/png": "[encoded data removed]",
      "text/plain": [
       "<Figure size 640x480 with 1 Axes>"
      ]
     },
     "metadata": {},
     "output_type": "display_data"
    }
   ],
   "source": [
    "plt.stem(v)"
   ]
  },
  {
   "attachments": {},
   "cell_type": "markdown",
   "metadata": {},
   "source": [
    "### Adicionales de graficos\n",
    "\n",
    "* Podemos mostrar graficos juntos en columnas separadas usando el metodo subplot con un parametro. Ejemplo: 121 indica (1 fila)(2 columnas)(1era posicion)\n",
    "* El metodo plot tiene como parametros\n",
    "    * _color_, que nos permite elegir el color de la curva\n",
    "    * _label_, nos permite mostrar una etiqueta en el grafico\n",
    "    * _legend_, nos permite agregar una leyenda al grafico"
   ]
  },
  {
   "attachments": {},
   "cell_type": "markdown",
   "metadata": {},
   "source": [
    "---"
   ]
  },
  {
   "attachments": {},
   "cell_type": "markdown",
   "metadata": {},
   "source": [
    "## **<span style=\"color: purple;\">Análisis de señales en frecuencia</span>**\n",
    "\n",
    "* **Frecuencia de oscilación** de una señal\n",
    "\n",
    "    Es la cantidad de veces que una señal oscila en un período de tiempo *generalmente un segundo*.\n",
    "\n",
    "    Ej.: la señal $f(t) = cos(2\\pi 3t)$ tiene una frecuencia de oscilacion de $3 Hz.$ (recordar $cos(2\\pi ft)$ me da la frecuencia).\n",
    "\n",
    "    Para calcular la frecuencia tambien se puede $f=\\frac{k}{L}$ donde $k$ es la cantidad de oscilaciones por intervalo y $L$ es la longitud del intervalo.\n",
    "* **Digitalizacion de una señal**\n",
    "\n",
    "    Significa tomar una \"foto\" de la señal de manera equiespaciada en el tiempo (cada una cantidad regular de tiempo).\n",
    "\n",
    "* **Periodo de una senal**\n",
    "\n",
    "    Podemos calcular el periodo de una senal > $P = \\frac{L}{k}$\n",
    "\n",
    "* **Periodo & frecuencia de muestreo para una senal**\n",
    "\n",
    "    $M$ es el numero de muestras equiespaciadas que queremos obtener. \n",
    "    \n",
    "    Luego $P_M$ es el periodo de muestreo y $f_m$ es la frecuencia de muestreo.\n",
    "\n",
    "    $P_M = \\frac{t}{M}$ donde $t$ es la longitud del intervalo. A su vez, $f_M = \\frac{1}{P_M}$"
   ]
  },
  {
   "attachments": {},
   "cell_type": "markdown",
   "metadata": {},
   "source": [
    "## **<span style=\"color: lightgreen;\">Convolucion</span>**\n",
    "\n",
    "Podemos realizar la convolucion de dos senales utilizando la libreria SciPy importada. \n",
    "\n",
    "Definimos dos senales:"
   ]
  },
  {
   "cell_type": "code",
   "execution_count": null,
   "metadata": {},
   "outputs": [
    {
     "name": "stdout",
     "output_type": "stream",
     "text": [
      "[ 0  1  2  3  4  5  6  7  8  9 10 11 12 13 14 15 16 17 18 19]\n",
      "[0.  0.1 0.2 0.3 0.4 0.5 0.6 0.7 0.8 0.9 1.  1.1 1.2 1.3 1.4 1.5 1.6 1.7\n",
      " 1.8 1.9]\n"
     ]
    },
    {
     "data": {
      "text/plain": [
       "[]"
      ]
     },
     "execution_count": 31,
     "metadata": {},
     "output_type": "execute_result"
    },
    {
     "data": {
      "image/png": "[encoded data removed]",
      "text/plain": [
       "<Figure size 1600x200 with 1 Axes>"
      ]
     },
     "metadata": {},
     "output_type": "display_data"
    },
    {
     "data": {
      "image/png": "[encoded data removed]",
      "text/plain": [
       "<Figure size 1600x200 with 1 Axes>"
      ]
     },
     "metadata": {},
     "output_type": "display_data"
    }
   ],
   "source": [
    "M = 20\n",
    "t = np.arange(M) # intervalo del 0 al 19 con un espaciado de 1 por defecto\n",
    "print(t)\n",
    "\n",
    "tn = t/M*2\n",
    "print(tn)\n",
    "f = np.cos(2*np.pi*tn) # coseno\n",
    "g = np.zeros(20)\n",
    "g[5:15] = 1;\n",
    "\n",
    "plt.figure(figsize=(16,2))\n",
    "plt.plot(t,f, label='Senal f')\n",
    "\n",
    "\n",
    "plt.figure(figsize=(16,2))\n",
    "plt.stem(t, g, label='Senal g')\n",
    "plt.plot()"
   ]
  },
  {
   "attachments": {},
   "cell_type": "markdown",
   "metadata": {},
   "source": [
    "Ya definidas las senales podemos hacer la convolucion entre las senales.\n",
    "\n",
    " ⚠️ **El \"vector\" de convolucion tiene un largo que se define como $L_h = L_f+L_g-1$**"
   ]
  },
  {
   "cell_type": "code",
   "execution_count": null,
   "metadata": {},
   "outputs": [
    {
     "ename": "NameError",
     "evalue": "name 'f' is not defined",
     "output_type": "error",
     "traceback": [
      "\u001b[1;31m---------------------------------------------------------------------------\u001b[0m",
      "\u001b[1;31mNameError\u001b[0m                                 Traceback (most recent call last)",
      "Cell \u001b[1;32mIn[24], line 1\u001b[0m\n\u001b[1;32m----> 1\u001b[0m h \u001b[39m=\u001b[39m signal\u001b[39m.\u001b[39mconvolve(f,g)\n\u001b[0;32m      3\u001b[0m plt\u001b[39m.\u001b[39mfigure(figsize\u001b[39m=\u001b[39m(\u001b[39m16\u001b[39m,\u001b[39m2\u001b[39m))\n\u001b[0;32m      4\u001b[0m plt\u001b[39m.\u001b[39mstem(h, label\u001b[39m=\u001b[39m\u001b[39m'\u001b[39m\u001b[39mSenal h (convolucion)\u001b[39m\u001b[39m'\u001b[39m)\n",
      "\u001b[1;31mNameError\u001b[0m: name 'f' is not defined"
     ]
    }
   ],
   "source": [
    "h = signal.convolve(f,g)\n",
    "\n",
    "plt.figure(figsize=(16,2))\n",
    "plt.stem(h, label='Senal h (convolucion)')\n",
    "plt.plot()"
   ]
  },
  {
   "attachments": {},
   "cell_type": "markdown",
   "metadata": {},
   "source": [
    "## **Frecuencia de Nyquist**\n",
    "\n",
    "> Frecuencia máxima que se puede representar de manera precisa en un sistema de muestreo y digitalización de señales.\n",
    "\n",
    "Si una señal se muestrea a una frecuencia igual o superior a la frecuencia de Nyquist, se pueden reconstruir con precisión todas las frecuencias que componen la señal original. Sin embargo, si la señal se muestrea a una frecuencia menor que la de Nyquist, se produce un fenómeno conocido como aliasing, que puede dar lugar a errores en la reconstrucción de la señal.\n",
    "\n",
    "* Para señales discretas la frecuencia de Nyquist es la mitad de la frecuencia. \n",
    "\n",
    "* Para el caso de señales continuas es el doble de la frecuencia."
   ]
  },
  {
   "attachments": {},
   "cell_type": "markdown",
   "metadata": {},
   "source": [
    "## **Conjunto de señales**\n",
    "\n",
    "¿Que significa que un conjunto de señales sean discretas y ortogonales respecto al producto interno canonico de cierto periodo?\n",
    "\n",
    "Cuando se dice que un conjunto de señales es discreto y ortogonal respecto al producto interno canónico de cierto período, significa que estas **señales tienen un periodo común y forman un conjunto discreto de funciones**, y que **cualquier par de señales en el conjunto es ortogonal entre sí respecto al producto interno canónico**.\n",
    "\n",
    "El producto interno canónico es un producto interno definido en un espacio de funciones que mide la similitud entre dos funciones. En el caso de señales discretas, el producto interno canónico se define como la suma de los productos de las muestras correspondientes de las dos señales. Es decir, si las señales son $x[n]$ e $y[n]$, el producto interno canónico se define como:\n",
    "\n",
    "$\\langle x,y\\rangle = \\sum_{n=0}^{N-1} x[n]y[n]$\n",
    "\n",
    "Si un <mark>conjunto de señales es ortogonal respecto a este producto interno canónico, significa que el producto interno entre cualquier par de señales diferentes en el conjunto es cero:</mark>\n",
    "\n",
    "$\\langle x_i,x_j\\rangle = \\sum_{n=0}^{N-1} x_i[n]x_j[n] = 0$, para $i \\neq j$\n",
    "\n",
    "En criollo, si hago el producto interno canonico entre dos senales pertenecientes a un conjunto ortogonal de senales, resulta igual a cero.\n",
    "\n",
    "Por lo tanto, si un conjunto de señales es discreto y ortogonal respecto al producto interno canónico de cierto periodo, se puede usar este conjunto como base para descomponer cualquier señal en una combinación lineal de estas señales ortogonales. Esta descomposición se conoce como descomposición en serie de Fourier discreta y es fundamental en el análisis y procesamiento de señales discretas."
   ]
  },
  {
   "attachments": {},
   "cell_type": "markdown",
   "metadata": {},
   "source": [
    "---"
   ]
  },
  {
   "attachments": {},
   "cell_type": "markdown",
   "metadata": {},
   "source": [
    "# **Transformada de Fourier.N**\n",
    "\n",
    "Transformada de Fourier punto N se refiere a la aplicación de esta transformada a una señal discreta que consta de N puntos.\n",
    "\n",
    "Es decir, se utiliza para analizar una señal digitalizada que ha sido muestreada en N puntos. **El resultado de esta transformada es una representación de la señal en términos de las frecuencias que la componen.**\n",
    "\n",
    "⚠️ Recordar que las funciones se analizan mediante la DFT usando notacion compleja (a+bj)\n",
    "\n",
    "Ejemplo, utilizando la señal anterior $f$, podemos calcular su DFT.N de la siguiente manera, gracias a la libreria SciPy que importamos:"
   ]
  },
  {
   "cell_type": "code",
   "execution_count": null,
   "metadata": {},
   "outputs": [
    {
     "ename": "NameError",
     "evalue": "name 'f' is not defined",
     "output_type": "error",
     "traceback": [
      "\u001b[1;31m---------------------------------------------------------------------------\u001b[0m",
      "\u001b[1;31mNameError\u001b[0m                                 Traceback (most recent call last)",
      "Cell \u001b[1;32mIn[12], line 2\u001b[0m\n\u001b[0;32m      1\u001b[0m N \u001b[39m=\u001b[39m \u001b[39m300\u001b[39m \u001b[39m# a mayor cantidad de puntos mayor definicion tengo de la transformada\u001b[39;00m\n\u001b[1;32m----> 2\u001b[0m TFf \u001b[39m=\u001b[39m fft(f,N)\n\u001b[0;32m      4\u001b[0m \u001b[39mprint\u001b[39m(\u001b[39mlen\u001b[39m(TFf)) \u001b[39m# la longitud de la transformada de Fourier de una funcion de longitud 100\u001b[39;00m\n\u001b[0;32m      5\u001b[0m \u001b[39mprint\u001b[39m(TFf[\u001b[39m0\u001b[39m:\u001b[39m10\u001b[39m])\n",
      "\u001b[1;31mNameError\u001b[0m: name 'f' is not defined"
     ]
    }
   ],
   "source": [
    "N = 300 # a mayor cantidad de puntos mayor definicion tengo de la transformada\n",
    "TFf = fft(f,N)\n",
    "\n",
    "print(len(TFf)) # la longitud de la transformada de Fourier de una funcion de longitud 100\n",
    "print(TFf[0:10])\n",
    "plt.figure(figsize=(14,7))\n",
    "plt.title(\"TFf completa\")\n",
    "plt.plot(TFf)\n",
    "\n",
    "# podemos elejir graficar la parte real y/o imaginaria de la transformada\n",
    "plt.figure(figsize=(14,7))\n",
    "plt.title(\"Parte real TFf\")\n",
    "plt.plot(np.real(TFf))\n",
    "\n",
    "plt.figure(figsize=(14,7))\n",
    "plt.title(\"Parte imaginaria TFf\")\n",
    "plt.plot(np.imag(TFf))\n",
    "\n",
    "plt.show()"
   ]
  },
  {
   "attachments": {},
   "cell_type": "markdown",
   "metadata": {},
   "source": [
    "# **MATRICES**\n",
    "Podemos definir matrices utilizando el mismo método que mencionamos anteriormente: ´np.array´.\n",
    "\n",
    "_⚠️ IMPORTANTE:_\n",
    "El método np.array solo acepta un parámetro que es el vector (o matriz). Por esto hay que agregar un par extra de paréntesis al parámetro."
   ]
  },
  {
   "cell_type": "code",
   "execution_count": 14,
   "metadata": {},
   "outputs": [
    {
     "name": "stdout",
     "output_type": "stream",
     "text": [
      "[[1 2 3]\n",
      " [4 5 6]\n",
      " [7 8 9]]\n"
     ]
    }
   ],
   "source": [
    "mat = np.array(([1,2,3],[4,5,6],[7,8,9])) # matriz de 3x3\n",
    "print(mat)"
   ]
  },
  {
   "attachments": {},
   "cell_type": "markdown",
   "metadata": {},
   "source": [
    "### **Matrices predefinidas**\n",
    "A los métodos np.zeros y np.ones le pasamos la dimensión de la matriz que queremos (entre paréntesis):"
   ]
  },
  {
   "cell_type": "code",
   "execution_count": 15,
   "metadata": {},
   "outputs": [
    {
     "name": "stdout",
     "output_type": "stream",
     "text": [
      "[[0. 0.]\n",
      " [0. 0.]\n",
      " [0. 0.]]\n",
      "[[1. 1. 1.]\n",
      " [1. 1. 1.]\n",
      " [1. 1. 1.]\n",
      " [1. 1. 1.]]\n"
     ]
    }
   ],
   "source": [
    "matriz_ceros = np.zeros((3,2)) # matriz de ceros de 3x2\n",
    "matriz_unos = np.ones((4,3)) # matriz de unos de 4x3\n",
    "\n",
    "print(matriz_ceros)\n",
    "print(matriz_unos)"
   ]
  },
  {
   "attachments": {},
   "cell_type": "markdown",
   "metadata": {},
   "source": [
    "### **Shape**\n",
    "El método shape nos permitirá obtener el tamaño de la matriz en el formato (#filas,#columnas)"
   ]
  },
  {
   "cell_type": "code",
   "execution_count": 17,
   "metadata": {},
   "outputs": [
    {
     "name": "stdout",
     "output_type": "stream",
     "text": [
      "(3, 2) = matriz_ceros\n",
      "(4, 3) = matriz_unos\n"
     ]
    }
   ],
   "source": [
    "print(matriz_ceros.shape, \"= matriz_ceros\")\n",
    "print(matriz_unos.shape, \"= matriz_unos\")"
   ]
  },
  {
   "attachments": {},
   "cell_type": "markdown",
   "metadata": {},
   "source": [
    "### **Imprimir partes de la matriz**\n",
    "\n",
    "Podemos imprimir un elemento de la matriz, una fila en específico o una columna.\n",
    "\n",
    "_⚠️ IMPORTANTE:_ se empieza a contar desde el cero, por lo que la fila primera se denota como la fila 0.\n",
    "\n",
    "Para mostrar una columna, en el parámetro que indica la fila ponemos \":\" para que no lo tenga en cuenta."
   ]
  },
  {
   "cell_type": "code",
   "execution_count": 24,
   "metadata": {},
   "outputs": [
    {
     "name": "stdout",
     "output_type": "stream",
     "text": [
      "[1 2 3] \n",
      "\n",
      "[1 4 7] \n",
      "\n",
      "8\n"
     ]
    }
   ],
   "source": [
    "# imprimimos la primera fila de la matriz\n",
    "print(mat[0],\"\\n\")\n",
    "\n",
    "# imprimimos la primera columna de la matriz\n",
    "print(mat[:,0],\"\\n\")\n",
    "\n",
    "# imprimimos un elemento en específico de la matriz\n",
    "print(mat[2,1])"
   ]
  },
  {
   "attachments": {},
   "cell_type": "markdown",
   "metadata": {},
   "source": [
    "# 🔊**Manejo de audio en Python**"
   ]
  }
 ],
 "metadata": {
  "kernelspec": {
   "display_name": "Python 3",
   "language": "python",
   "name": "python3"
  },
  "language_info": {
   "codemirror_mode": {
    "name": "ipython",
    "version": 3
   },
   "file_extension": ".py",
   "mimetype": "text/x-python",
   "name": "python",
   "nbconvert_exporter": "python",
   "pygments_lexer": "ipython3",
   "version": "3.11.2"
  },
  "orig_nbformat": 4
 },
 "nbformat": 4,
 "nbformat_minor": 2
}
