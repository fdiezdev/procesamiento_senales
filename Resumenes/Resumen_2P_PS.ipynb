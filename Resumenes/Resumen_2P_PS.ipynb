{
 "cells": [
  {
   "attachments": {},
   "cell_type": "markdown",
   "metadata": {},
   "source": [
    "# **_<span style=\"color: purple\">PS Cheatsheet 2P</span>_**"
   ]
  },
  {
   "cell_type": "code",
   "execution_count": 1,
   "metadata": {},
   "outputs": [],
   "source": [
    "# Importamos las bibliotecas necesarias\n",
    "import cv2 #para imágenes, Open CV (Computer Vision)\n",
    "import numpy as np\n",
    "import matplotlib.pyplot as plt"
   ]
  },
  {
   "attachments": {},
   "cell_type": "markdown",
   "metadata": {},
   "source": [
    "# **Matrices**\n",
    "\n",
    "\n",
    "Las matrices se declaran usando el mismo método np.array([$fila1$],[$fila2$],$...$,[$fila(N-1)$])\n",
    "\n",
    "Por ejemplo, las siguientes matrices:\n",
    "$$A=\\begin{pmatrix} 1 & -9 & \\frac{1}{2} \\\\ 3 & 0 & 0\\end{pmatrix} \\;\\;\\; y \\;\\;\\; B=\\begin{pmatrix} 1 & -9 & \\frac{1}{2} \\\\ 3 & 0 & 0 \\\\ 0 & 1 &2\\end{pmatrix}$$\n",
    "\n",
    "Se definen:"
   ]
  },
  {
   "cell_type": "code",
   "execution_count": 2,
   "metadata": {},
   "outputs": [
    {
     "name": "stdout",
     "output_type": "stream",
     "text": [
      "[[ 1.  -9.   0.5]\n",
      " [ 3.   0.   0. ]]\n",
      "[[ 1.  -9.   0.5]\n",
      " [ 3.   0.   0. ]\n",
      " [ 0.   1.   2. ]]\n"
     ]
    }
   ],
   "source": [
    "A=np.array([[1, -9,  1/2], [3, 0, 0]]) #A tiene 2 filas y 3 columnas\n",
    "print(\"A = \",A)\n",
    "\n",
    "B=np.array([[1, -9,  1/2], [3, 0, 0], [0,1,2]]) #completar\n",
    "print(\"B =\",B)"
   ]
  },
  {
   "attachments": {},
   "cell_type": "markdown",
   "metadata": {},
   "source": [
    "### **Tamaño y orden de la matriz**\n",
    "\n",
    "- Para ver el tamaño de la matriz usamos el **método shape**.\n",
    "- Para ver la cantidad de elementos usamos el **método size**."
   ]
  },
  {
   "cell_type": "code",
   "execution_count": 3,
   "metadata": {},
   "outputs": [
    {
     "name": "stdout",
     "output_type": "stream",
     "text": [
      "Orden de la matriz A =  (2, 3)\n",
      "Cantidad de elementos de la matriz B =  9\n"
     ]
    }
   ],
   "source": [
    "print(\"Orden de la matriz A = \", A.shape)\n",
    "\n",
    "print(\"Cantidad de elementos de la matriz B = \", B.size)"
   ]
  },
  {
   "attachments": {},
   "cell_type": "markdown",
   "metadata": {},
   "source": [
    "### **Selección de elementos/filas/columnas**\n",
    "\n",
    "- Para seleccionar un elemento en particular, por ejemplo el alemento $a_{12}$ de la matriz $A$ se expresa $A[0,1]$. **Tener en cuenta que python empieza a contar desde 0.**\n",
    "- Para mostrar una fila, seleccionamos todas las comlumnas con el selector $:$ y elegimos que fila debe mostrar todas sus columnas.\n",
    "- Para mostrar una columna, hacemos lo mismo que con la fila. Seleccionamos todas las filas con $:$ y elegimos que elemento de cada fila debe mostrarse.\n",
    "\n"
   ]
  },
  {
   "cell_type": "code",
   "execution_count": 4,
   "metadata": {},
   "outputs": [
    {
     "name": "stdout",
     "output_type": "stream",
     "text": [
      "Elemento a12 =  -9.0\n",
      "Primera fila de B =  [ 1.  -9.   0.5]\n",
      "Segunda columna de A =  [-9.  0.]\n"
     ]
    }
   ],
   "source": [
    "print(\"Elemento a12 = \", A[0,1])\n",
    "\n",
    "print(\"Primera fila de B = \", B[0,:])\n",
    "\n",
    "print(\"Segunda columna de A = \", A[:,1])"
   ]
  },
  {
   "attachments": {},
   "cell_type": "markdown",
   "metadata": {},
   "source": [
    "### **Operaciones con matrices**\n",
    "- Suma y Resta: **PARA SUMARLAS LAS MATRICES DEBEN TENER LA MIMA DIMENSIÓN**.\n",
    "- No siempre se pude hacer la división porque quedan resultados invalidos como por ej. 8/0"
   ]
  },
  {
   "cell_type": "code",
   "execution_count": 15,
   "metadata": {},
   "outputs": [
    {
     "name": "stdout",
     "output_type": "stream",
     "text": [
      "[[ 1.  -9.   0.5]\n",
      " [ 3.   0.   0. ]\n",
      " [ 0.   1.   2. ]]\n",
      "\n",
      " Suma A+B = \n",
      " [[  2. -18.   1.]\n",
      " [  6.   0.   0.]\n",
      " [  0.   2.   4.]]\n",
      "\n",
      " Resta A-B = \n",
      " [[0. 0. 0.]\n",
      " [0. 0. 0.]\n",
      " [0. 0. 0.]]\n",
      "\n",
      " Producto A*B = \n",
      " [[ 1.   81.    0.25]\n",
      " [ 9.    0.    0.  ]\n",
      " [ 0.    1.    4.  ]]\n",
      "\n",
      " Division = \n",
      " [[ 1.  1.  1.]\n",
      " [ 1. nan nan]\n",
      " [nan  1.  1.]]\n"
     ]
    },
    {
     "name": "stderr",
     "output_type": "stream",
     "text": [
      "C:\\Users\\diezf\\AppData\\Local\\Temp\\ipykernel_3528\\468216995.py:15: RuntimeWarning: invalid value encountered in divide\n",
      "  print(\"\\n Division = \\n\", A/B)\n"
     ]
    }
   ],
   "source": [
    "# agregamos una fila a la matriz A para poder sumarla con B\n",
    "A = np.array([A[0,:], A[1,:], [0,1,2]])\n",
    "print(A)\n",
    "\n",
    "# Sumamos A + B\n",
    "print(\"\\n Suma A+B = \\n\", A+B)\n",
    "\n",
    "# Resta A - B\n",
    "print(\"\\n Resta A-B = \\n\", A-B)\n",
    "\n",
    "# Producto\n",
    "print(\"\\n Producto A*B = \\n\", A*B)\n",
    "\n",
    "# Division\n",
    "print(\"\\n Division = \\n\", A/B)"
   ]
  },
  {
   "attachments": {},
   "cell_type": "markdown",
   "metadata": {},
   "source": [
    "### **Transposición de una matriz**"
   ]
  },
  {
   "cell_type": "code",
   "execution_count": 23,
   "metadata": {},
   "outputs": [
    {
     "name": "stdout",
     "output_type": "stream",
     "text": [
      "[[ 1.   3.   0. ]\n",
      " [-9.   0.   1. ]\n",
      " [ 0.5  0.   2. ]] \n",
      " [[ 1.  -9.   0.5]\n",
      " [ 3.   0.   0. ]\n",
      " [ 0.   1.   2. ]]\n"
     ]
    }
   ],
   "source": [
    "At = np.transpose(A)\n",
    "print(At,\"\\n\" ,A)"
   ]
  },
  {
   "attachments": {},
   "cell_type": "markdown",
   "metadata": {},
   "source": [
    "### **Matrices especiales**\n",
    "- Matriz de ceros: <code>np.zeros((m,n))</code>\n",
    "- Matriz de unos: <code>np.ones((m,n))</code>\n",
    "- Matriz con distro. aleatoria de elementos entre 0 y 1: <code>np.random.random((m,n))</code>"
   ]
  },
  {
   "cell_type": "code",
   "execution_count": 24,
   "metadata": {},
   "outputs": [
    {
     "name": "stdout",
     "output_type": "stream",
     "text": [
      "[[0. 0. 0. 0.]\n",
      " [0. 0. 0. 0.]\n",
      " [0. 0. 0. 0.]\n",
      " [0. 0. 0. 0.]\n",
      " [0. 0. 0. 0.]\n",
      " [0. 0. 0. 0.]\n",
      " [0. 0. 0. 0.]\n",
      " [0. 0. 0. 0.]\n",
      " [0. 0. 0. 0.]\n",
      " [0. 0. 0. 0.]\n",
      " [0. 0. 0. 0.]\n",
      " [0. 0. 0. 0.]]\n",
      "[[1. 1. 1. 1. 1. 1. 1. 1.]\n",
      " [1. 1. 1. 1. 1. 1. 1. 1.]\n",
      " [1. 1. 1. 1. 1. 1. 1. 1.]]\n",
      "[[0.86957411 0.71239649 0.897044   0.53689905 0.15057555 0.86875101]\n",
      " [0.81515862 0.98494805 0.09815654 0.84716083 0.12548679 0.99439337]\n",
      " [0.31878029 0.28664154 0.85520467 0.05056691 0.15507834 0.1224651 ]\n",
      " [0.27777816 0.18283193 0.13066027 0.72084376 0.07812378 0.91374075]\n",
      " [0.28059921 0.49920259 0.37003725 0.73603568 0.78684118 0.33770488]\n",
      " [0.13110448 0.09528922 0.72119231 0.44451026 0.02822158 0.06880216]]\n"
     ]
    }
   ],
   "source": [
    "ceros = np.zeros((12,4))\n",
    "print(ceros)\n",
    "\n",
    "unos = np.ones((3,8))\n",
    "print(unos)\n",
    "\n",
    "random = np.random.random((6,6))\n",
    "print(random)"
   ]
  },
  {
   "attachments": {},
   "cell_type": "markdown",
   "metadata": {},
   "source": [
    "## **Tipos de Datos**\n",
    "\n",
    "- int8 (enteros de 8 bits, en rango [-128,127])\n",
    "- int16 (enteros de 16 bits, en rango [-32768,32767])\n",
    "- uint8 (enteros sin signo de 8 bits, en rango [0,255])\n",
    "- uint16 (enteros sin signo de 16 bits, en rango [0,65535])\n",
    "\n",
    "> \n",
    "> Sin signo => sin números negativos\n",
    "> \n",
    "\n",
    "- float: flotantes\n",
    "- bool: booleanos\n",
    "- comples: complejos\n",
    "\n",
    "Para ver que tipo de datos tiene un elemento usamos <code>A.dtype</code> o el método <code>type()</code> para una variable."
   ]
  },
  {
   "cell_type": "code",
   "execution_count": 25,
   "metadata": {},
   "outputs": [
    {
     "name": "stdout",
     "output_type": "stream",
     "text": [
      "float64\n"
     ]
    }
   ],
   "source": [
    "# tipo de dato de la matriz A\n",
    "print(A.dtype)"
   ]
  },
  {
   "attachments": {},
   "cell_type": "markdown",
   "metadata": {},
   "source": [
    "### Convertir tipos de datos"
   ]
  },
  {
   "cell_type": "code",
   "execution_count": 28,
   "metadata": {},
   "outputs": [
    {
     "name": "stdout",
     "output_type": "stream",
     "text": [
      "<class 'int'>\n",
      "193\n"
     ]
    },
    {
     "name": "stderr",
     "output_type": "stream",
     "text": [
      "C:\\Users\\diezf\\AppData\\Local\\Temp\\ipykernel_3528\\772191419.py:4: DeprecationWarning: NumPy will stop allowing conversion of out-of-bound Python integers to integer arrays.  The conversion of -63 to uint8 will fail in the future.\n",
      "For the old behavior, usually:\n",
      "    np.array(value).astype(dtype)`\n",
      "will give the desired result (the cast overflows).\n",
      "  numMod = np.uint8(num)\n"
     ]
    }
   ],
   "source": [
    "# pasamos de por int8 a uint8\n",
    "num = -63\n",
    "print(type(num))\n",
    "numMod = np.uint8(num)\n",
    "print(numMod)"
   ]
  },
  {
   "attachments": {},
   "cell_type": "markdown",
   "metadata": {},
   "source": [
    "## **Tipos de imagenes**\n",
    "\n",
    "* **La imagen binaria:** es una imagen en blanco y negro. Cada píxel tiene asignado un valor lógico de 0 o 1.\n",
    "\n",
    "* **La imagen de intensidad:** los elementos de una imagen de intensidad en general son de clase uint8 (enteros almacenados en 8 bits) o de clase uint16 (enteros almacenados en 16 bits), pueden almacenar, respectivamente, 2^8=256 valores en el rango [0-255], o 2^16=65536 valores en el rango [0-65535]. Cuando la imagen es de clase float32, los valores son números en punto flotante (que se almacenan en 32 bits)\n",
    "    \n",
    "* **La imagen en color:** es como la imagen de intensidad pero tiene tres canales, es decir, a cada píxel le corresponden tres valores de intensidad (formato RGB) en lugar de uno.\n",
    "\n",
    "* **Imagen de categorías:** Puede visualizarse con colores. "
   ]
  },
  {
   "attachments": {},
   "cell_type": "markdown",
   "metadata": {},
   "source": [
    "### Relación matrices/imágenes\n",
    "\n",
    "Para generar imagenes a partir de matrices utilizaremos el metodo <code>plt.imshow()</code>.\n",
    "\n",
    "**⚠️ IMPORTANTE:**\n",
    "* 1 => blanco\n",
    "* 0 => negro"
   ]
  },
  {
   "cell_type": "code",
   "execution_count": 29,
   "metadata": {},
   "outputs": [
    {
     "data": {
      "text/plain": [
       "<matplotlib.colorbar.Colorbar at 0x2873c233f10>"
      ]
     },
     "execution_count": 29,
     "metadata": {},
     "output_type": "execute_result"
    },
    {
     "data": {
      "image/png": "[encoded data removed]",
      "text/plain": [
       "<Figure size 500x500 with 2 Axes>"
      ]
     },
     "metadata": {},
     "output_type": "display_data"
    }
   ],
   "source": [
    "# generacion de una imagen\n",
    "i1 = np.ones((70,70))\n",
    "plt.figure(figsize=(5,5))\n",
    "c = plt.imshow(i1, cmap='gray',vmin=0,vmax=1)\n",
    "plt.title(\"Imagen Blanca\")\n",
    "plt.colorbar()"
   ]
  },
  {
   "attachments": {},
   "cell_type": "markdown",
   "metadata": {},
   "source": [
    "El metodo <code>np.copy()</code> me copia el elemento que yo le ingrese como argumento."
   ]
  },
  {
   "cell_type": "code",
   "execution_count": 32,
   "metadata": {},
   "outputs": [
    {
     "data": {
      "text/plain": [
       "<matplotlib.colorbar.Colorbar at 0x2873c8287d0>"
      ]
     },
     "execution_count": 32,
     "metadata": {},
     "output_type": "execute_result"
    },
    {
     "data": {
      "image/png": "[encoded data removed]",
      "text/plain": [
       "<Figure size 500x500 with 2 Axes>"
      ]
     },
     "metadata": {},
     "output_type": "display_data"
    },
    {
     "data": {
      "image/png": "[encoded data removed]",
      "text/plain": [
       "<Figure size 500x500 with 2 Axes>"
      ]
     },
     "metadata": {},
     "output_type": "display_data"
    }
   ],
   "source": [
    "# imagen negra\n",
    "plt.figure(figsize=(5,5))\n",
    "c=plt.imshow(i1,cmap='gray',vmin=0, vmax=255) #variar vmin y vmax para variar la escala de grises\n",
    "plt.colorbar(c)\n",
    "\n",
    "# variar k\n",
    "k = 100\n",
    "M = np.copy(i1)\n",
    "M[0:10,10:20] = k # reemplazo una parte de la matriz por valores de k\n",
    "\n",
    "plt.figure(figsize=(5,5))\n",
    "c=plt.imshow(M,cmap='gray',vmin=0,vmax=255) \n",
    "plt.colorbar()"
   ]
  },
  {
   "attachments": {},
   "cell_type": "markdown",
   "metadata": {},
   "source": [
    "Creamos una funcion blanca y negra usando la funcion concatenate."
   ]
  },
  {
   "cell_type": "code",
   "execution_count": 38,
   "metadata": {},
   "outputs": [
    {
     "data": {
      "text/plain": [
       "<matplotlib.colorbar.Colorbar at 0x2873cc29850>"
      ]
     },
     "execution_count": 38,
     "metadata": {},
     "output_type": "execute_result"
    },
    {
     "data": {
      "image/png": "[encoded data removed]",
      "text/plain": [
       "<Figure size 500x500 with 2 Axes>"
      ]
     },
     "metadata": {},
     "output_type": "display_data"
    }
   ],
   "source": [
    "bw = np.concatenate((np.ones((25,25)),np.zeros((25,25))),axis=1)\n",
    "plt.figure(figsize=(5,5))\n",
    "c=plt.imshow(bw,cmap='gray',vmin=0,vmax=1)\n",
    "plt.colorbar(c,aspect=2.5)"
   ]
  }
 ],
 "metadata": {
  "kernelspec": {
   "display_name": "Python 3",
   "language": "python",
   "name": "python3"
  },
  "language_info": {
   "codemirror_mode": {
    "name": "ipython",
    "version": 3
   },
   "file_extension": ".py",
   "mimetype": "text/x-python",
   "name": "python",
   "nbconvert_exporter": "python",
   "pygments_lexer": "ipython3",
   "version": "3.11.2"
  },
  "orig_nbformat": 4
 },
 "nbformat": 4,
 "nbformat_minor": 2
}
