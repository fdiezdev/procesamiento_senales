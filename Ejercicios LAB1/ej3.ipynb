{
 "cells": [
  {
   "attachments": {},
   "cell_type": "markdown",
   "metadata": {},
   "source": [
    "Sean las señales:\n",
    "\n",
    "$f(t)= \\cos(2 \\pi 7 t), t \\in \\left[0,2 \\right)$\n",
    "\n",
    "$g(t)=\\sin(2 \\pi 3 t), t \\in \\left [0, 2 \\right ) $\n",
    "\n",
    "### a) Que frecuencia (de oscilación) tienen?\n",
    "\n",
    "Reemplazo t entre 0 y 1\n"
   ]
  }
 ],
 "metadata": {
  "language_info": {
   "name": "python"
  },
  "orig_nbformat": 4
 },
 "nbformat": 4,
 "nbformat_minor": 2
}
