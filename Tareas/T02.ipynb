{
 "cells": [
  {
   "attachments": {},
   "cell_type": "markdown",
   "metadata": {},
   "source": [
    "# **<span style=\"color: purple\">Tarea 02 - Procesamiento de Señales</span>**\n",
    "\n",
    "(1) Grabar dos audios en formato wav, cada uno con duración aproximada de 15 segundos, uno con 3 momentos, cada momento con un sonido diferente a los otros dos (ejemplo: sonido de tres letras, aaaa iiiii fffffff, con tonos graves o agudos cada uno, o tres instrumentos y/o notas distintas.) y otro con un sonido que vaya cambiando, tipo agudizar una letra. \n",
    "Jueguen!\n",
    "\n",
    "(2) Para cada archivo generado en los incisos 1 y 2:\n",
    "\n",
    "    \n",
    "\n",
    "    \n",
    "\n",
    "    \n",
    "\n",
    "    (f) Calcular la transformada de Fourier (punto N=Fr, es decir la cantidad de muestras  en 1s) en tres segundos diferentes de la señal. Analice los resultados de acuerdo a lo que escucha en los audios en esos momentos.\n",
    "\n",
    "    (g) En cuanto a lo analizado en el ítem anterior, considera que la señal analizada es estacionaria o no estacionaria? Justifique."
   ]
  },
  {
   "attachments": {},
   "cell_type": "markdown",
   "metadata": {},
   "source": [
    "\n",
    "**(a) Llevar a memoria en Colab.**\n",
    "\n",
    "Importamos las librerías necesarias para manipular las señales:"
   ]
  },
  {
   "cell_type": "code",
   "execution_count": 2,
   "metadata": {},
   "outputs": [],
   "source": [
    "import numpy as np\n",
    "import matplotlib.pyplot as plt\n",
    "from scipy import signal\n",
    "from scipy.fftpack import fft,fftshift,ifft\n",
    "from scipy.io.wavfile import read, write"
   ]
  },
  {
   "attachments": {},
   "cell_type": "markdown",
   "metadata": {},
   "source": [
    "Cargamos los archivos en formato WAV en memoria:"
   ]
  },
  {
   "cell_type": "code",
   "execution_count": 3,
   "metadata": {},
   "outputs": [
    {
     "name": "stdout",
     "output_type": "stream",
     "text": [
      "(44100, array([[ -31,  -33],\n",
      "       [ -31,  -34],\n",
      "       [ -33,  -35],\n",
      "       ...,\n",
      "       [-291, -274],\n",
      "       [-293, -271],\n",
      "       [-279, -264]], dtype=int16))\n"
     ]
    }
   ],
   "source": [
    "au1 = read('./AudiosT02/audio1.wav')\n",
    "print(au1)\n",
    "au2 = read('./AudiosT02/audio2.wav')"
   ]
  },
  {
   "attachments": {},
   "cell_type": "markdown",
   "metadata": {},
   "source": [
    "**(b) Extraer Fr, la frecuencia de muestreo y guardar la señal en una variable.**"
   ]
  },
  {
   "cell_type": "code",
   "execution_count": 4,
   "metadata": {},
   "outputs": [
    {
     "name": "stdout",
     "output_type": "stream",
     "text": [
      "Frecuencia de la señal de audio 1:  44100 [Hz] \n",
      "\n",
      "Frecuencia de la señal de audio 2:  44100 [Hz] \n",
      "\n"
     ]
    }
   ],
   "source": [
    "fr1 = au1[0] # frecuencia de muestreo de la señal de audio 1\n",
    "s1 = au1[1] # señal de aduio 1\n",
    "print(\"Frecuencia de la señal de audio 1: \",fr1, \"[Hz] \\n\")\n",
    "\n",
    "fr2 = au2[0] # frecuencia de muestreo de la señal de audio 2\n",
    "s2 = au2[1] # señal de aduio 2\n",
    "print(\"Frecuencia de la señal de audio 2: \",fr2, \"[Hz] \\n\")"
   ]
  },
  {
   "attachments": {},
   "cell_type": "markdown",
   "metadata": {},
   "source": [
    "**(c) Calcular la cantidad de muestras (M), la duración de la señal (en segundos) y definir el vector de tiempos discretizados.**"
   ]
  },
  {
   "cell_type": "code",
   "execution_count": 5,
   "metadata": {},
   "outputs": [],
   "source": [
    "m1 = len(s1) # cantidad de muestras de la señal 1\n",
    "m2 = len(s2) # cantidad de muestras de la señal 2\n",
    "pm = 1/fr1\n",
    "# print(m1, \" \", m2 )\n",
    "\n",
    "# calculamos duración de la señal como L = k/f donde k es la cantidad de oscilaciones en el intervalo y f es la frecuencia\n",
    "l1 = m1/fr1 # longitud en segundos de la señal de audio 1\n",
    "l2 = m2/fr2 # longitud en segundos de la señal de audio 2\n",
    "\n",
    "# definimos los vectores de tiempo discretizado\n",
    "t1 = np.arange(0, np.floor(l1),10/m1)\n",
    "t2 = np.arange(0, np.ceil(l2),10/m2)\n",
    "\n",
    "\n",
    "# ! TODO: preguntarle a las profes"
   ]
  },
  {
   "attachments": {},
   "cell_type": "markdown",
   "metadata": {},
   "source": [
    "**(d) Grafique la señal en función del tiempo discretizado.**"
   ]
  },
  {
   "cell_type": "code",
   "execution_count": 8,
   "metadata": {},
   "outputs": [
    {
     "data": {
      "image/png": "[encoded data removed]",
      "text/plain": [
       "<Figure size 1600x400 with 1 Axes>"
      ]
     },
     "metadata": {},
     "output_type": "display_data"
    }
   ],
   "source": [
    "plt.figure(figsize=(16,4))\n",
    "\n",
    "plt.subplot(121)\n",
    "plt.plot(tn, s1) # graficamos la señal en función del vector de tiempo discreto\n",
    "plt.title(\"Señal 1\")\n",
    "plt.xlabel(\"Tiempo [s]\")\n",
    "plt.ylabel(\"Frecuencia [Hz]\")\n",
    "\n",
    "plt.subplot(122)\n",
    "plt.plot(tn,s2)\n",
    "plt.title(\"Señal 2\")\n",
    "plt.xlabel(\"Tiempo [s]\")\n",
    "plt.ylabel(\"Frecuencia [Hz]\")\n",
    "\n",
    "plt.show()"
   ]
  },
  {
   "attachments": {},
   "cell_type": "markdown",
   "metadata": {},
   "source": [
    "**(e) Calcular la Transformada de Fourier de la señal. (DFT punto N=M cantidad de muestras)**"
   ]
  },
  {
   "cell_type": "code",
   "execution_count": 9,
   "metadata": {},
   "outputs": [
    {
     "ename": "MemoryError",
     "evalue": "Unable to allocate 1.51 TiB for an array with shape (455523, 455523) and data type float64",
     "output_type": "error",
     "traceback": [
      "\u001b[1;31m---------------------------------------------------------------------------\u001b[0m",
      "\u001b[1;31mMemoryError\u001b[0m                               Traceback (most recent call last)",
      "Cell \u001b[1;32mIn[9], line 1\u001b[0m\n\u001b[1;32m----> 1\u001b[0m fts1 \u001b[39m=\u001b[39m fft(s1, m1)\n\u001b[0;32m      3\u001b[0m plt\u001b[39m.\u001b[39mplot(fts1)\n\u001b[0;32m      4\u001b[0m plt\u001b[39m.\u001b[39mshow()\n",
      "File \u001b[1;32m~\\AppData\\Roaming\\Python\\Python311\\site-packages\\scipy\\fftpack\\_basic.py:88\u001b[0m, in \u001b[0;36mfft\u001b[1;34m(x, n, axis, overwrite_x)\u001b[0m\n\u001b[0;32m     12\u001b[0m \u001b[39mdef\u001b[39;00m \u001b[39mfft\u001b[39m(x, n\u001b[39m=\u001b[39m\u001b[39mNone\u001b[39;00m, axis\u001b[39m=\u001b[39m\u001b[39m-\u001b[39m\u001b[39m1\u001b[39m, overwrite_x\u001b[39m=\u001b[39m\u001b[39mFalse\u001b[39;00m):\n\u001b[0;32m     13\u001b[0m \u001b[39m    \u001b[39m\u001b[39m\"\"\"\u001b[39;00m\n\u001b[0;32m     14\u001b[0m \u001b[39m    Return discrete Fourier transform of real or complex sequence.\u001b[39;00m\n\u001b[0;32m     15\u001b[0m \n\u001b[1;32m   (...)\u001b[0m\n\u001b[0;32m     86\u001b[0m \n\u001b[0;32m     87\u001b[0m \u001b[39m    \"\"\"\u001b[39;00m\n\u001b[1;32m---> 88\u001b[0m     \u001b[39mreturn\u001b[39;00m _pocketfft\u001b[39m.\u001b[39;49mfft(x, n, axis, \u001b[39mNone\u001b[39;49;00m, overwrite_x)\n",
      "File \u001b[1;32m~\\AppData\\Roaming\\Python\\Python311\\site-packages\\scipy\\fft\\_pocketfft\\basic.py:23\u001b[0m, in \u001b[0;36mc2c\u001b[1;34m(forward, x, n, axis, norm, overwrite_x, workers, plan)\u001b[0m\n\u001b[0;32m     20\u001b[0m workers \u001b[39m=\u001b[39m _workers(workers)\n\u001b[0;32m     22\u001b[0m \u001b[39mif\u001b[39;00m n \u001b[39mis\u001b[39;00m \u001b[39mnot\u001b[39;00m \u001b[39mNone\u001b[39;00m:\n\u001b[1;32m---> 23\u001b[0m     tmp, copied \u001b[39m=\u001b[39m _fix_shape_1d(tmp, n, axis)\n\u001b[0;32m     24\u001b[0m     overwrite_x \u001b[39m=\u001b[39m overwrite_x \u001b[39mor\u001b[39;00m copied\n\u001b[0;32m     25\u001b[0m \u001b[39melif\u001b[39;00m tmp\u001b[39m.\u001b[39mshape[axis] \u001b[39m<\u001b[39m \u001b[39m1\u001b[39m:\n",
      "File \u001b[1;32m~\\AppData\\Roaming\\Python\\Python311\\site-packages\\scipy\\fft\\_pocketfft\\helper.py:144\u001b[0m, in \u001b[0;36m_fix_shape_1d\u001b[1;34m(x, n, axis)\u001b[0m\n\u001b[0;32m    140\u001b[0m \u001b[39mif\u001b[39;00m n \u001b[39m<\u001b[39m \u001b[39m1\u001b[39m:\n\u001b[0;32m    141\u001b[0m     \u001b[39mraise\u001b[39;00m \u001b[39mValueError\u001b[39;00m(\n\u001b[0;32m    142\u001b[0m         \u001b[39m\"\u001b[39m\u001b[39minvalid number of data points (\u001b[39m\u001b[39m{0}\u001b[39;00m\u001b[39m) specified\u001b[39m\u001b[39m\"\u001b[39m\u001b[39m.\u001b[39mformat(n))\n\u001b[1;32m--> 144\u001b[0m \u001b[39mreturn\u001b[39;00m _fix_shape(x, (n,), (axis,))\n",
      "File \u001b[1;32m~\\AppData\\Roaming\\Python\\Python311\\site-packages\\scipy\\fft\\_pocketfft\\helper.py:134\u001b[0m, in \u001b[0;36m_fix_shape\u001b[1;34m(x, shape, axes)\u001b[0m\n\u001b[0;32m    131\u001b[0m \u001b[39mfor\u001b[39;00m n, axis \u001b[39min\u001b[39;00m \u001b[39mzip\u001b[39m(shape, axes):\n\u001b[0;32m    132\u001b[0m     s[axis] \u001b[39m=\u001b[39m n\n\u001b[1;32m--> 134\u001b[0m z \u001b[39m=\u001b[39m np\u001b[39m.\u001b[39;49mzeros(s, x\u001b[39m.\u001b[39;49mdtype)\n\u001b[0;32m    135\u001b[0m z[index] \u001b[39m=\u001b[39m x[index]\n\u001b[0;32m    136\u001b[0m \u001b[39mreturn\u001b[39;00m z, \u001b[39mTrue\u001b[39;00m\n",
      "\u001b[1;31mMemoryError\u001b[0m: Unable to allocate 1.51 TiB for an array with shape (455523, 455523) and data type float64"
     ]
    }
   ],
   "source": [
    "fts1 = fft(s1, m1)\n",
    "\n",
    "plt.plot(fts1)\n",
    "plt.show()\n",
    "#fts2 = fft(s2)"
   ]
  }
 ],
 "metadata": {
  "kernelspec": {
   "display_name": "Python 3",
   "language": "python",
   "name": "python3"
  },
  "language_info": {
   "codemirror_mode": {
    "name": "ipython",
    "version": 3
   },
   "file_extension": ".py",
   "mimetype": "text/x-python",
   "name": "python",
   "nbconvert_exporter": "python",
   "pygments_lexer": "ipython3",
   "version": "3.11.2"
  },
  "orig_nbformat": 4
 },
 "nbformat": 4,
 "nbformat_minor": 2
}
